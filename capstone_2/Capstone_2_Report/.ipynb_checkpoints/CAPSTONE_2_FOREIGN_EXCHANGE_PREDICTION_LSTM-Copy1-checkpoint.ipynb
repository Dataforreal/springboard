{
 "cells": [
  {
   "cell_type": "code",
   "execution_count": 1,
   "metadata": {},
   "outputs": [
    {
     "name": "stderr",
     "output_type": "stream",
     "text": [
      "Using TensorFlow backend.\n"
     ]
    }
   ],
   "source": [
    "# Import Libraries\n",
    "import numpy as np\n",
    "import matplotlib.pyplot as plt\n",
    "import pandas as pd\n",
    "from keras.callbacks import EarlyStopping"
   ]
  },
  {
   "cell_type": "code",
   "execution_count": 2,
   "metadata": {},
   "outputs": [
    {
     "data": {
      "text/plain": [
       "array([1.0085 , 1.0255 , 1.0304 , ..., 1.10882, 1.10925, 1.10953])"
      ]
     },
     "execution_count": 2,
     "metadata": {},
     "output_type": "execute_result"
    }
   ],
   "source": [
    "#get data\n",
    "eurusd = pd.read_csv(r'eurousd.csv', index_col=0, parse_dates=True, skipinitialspace=True)\n",
    "dataset = eurusd.Open.values #numpy.ndarray\n",
    "dataset"
   ]
  },
  {
   "cell_type": "code",
   "execution_count": 3,
   "metadata": {},
   "outputs": [
    {
     "data": {
      "text/plain": [
       "array([[1.0085 ],\n",
       "       [1.0255 ],\n",
       "       [1.0304 ],\n",
       "       ...,\n",
       "       [1.10882],\n",
       "       [1.10925],\n",
       "       [1.10953]])"
      ]
     },
     "execution_count": 3,
     "metadata": {},
     "output_type": "execute_result"
    }
   ],
   "source": [
    "# Rescape data\n",
    "dataset = np.reshape(dataset, (-1, 1))\n",
    "dataset"
   ]
  },
  {
   "cell_type": "code",
   "execution_count": 4,
   "metadata": {},
   "outputs": [
    {
     "name": "stdout",
     "output_type": "stream",
     "text": [
      "4149\n",
      "1038\n"
     ]
    }
   ],
   "source": [
    "train_size = int(len(dataset) * 0.80)\n",
    "\n",
    "test_size = len(dataset) - train_size\n",
    "\n",
    "train, test = dataset[0:train_size,:], dataset[train_size:len(dataset),:]\n",
    "print(train_size)\n",
    "print(test_size)"
   ]
  },
  {
   "cell_type": "code",
   "execution_count": 5,
   "metadata": {},
   "outputs": [],
   "source": [
    "#Feature Scaling\n",
    "from sklearn.preprocessing import MinMaxScaler\n",
    "sc = MinMaxScaler(feature_range=(0, 1))\n",
    "train_scaled = sc.fit_transform(train)\n",
    "test_scaled = sc.fit_transform(test)"
   ]
  },
  {
   "cell_type": "code",
   "execution_count": 6,
   "metadata": {},
   "outputs": [],
   "source": [
    "# Create a data structure with 60 timestamps and 1 output\n",
    "X_train = []\n",
    "y_train = []\n",
    "for i in range(60, len(train_scaled)):\n",
    "    X_train.append(train_scaled[i-60:i, 0])\n",
    "    y_train.append(train_scaled[i, 0])\n",
    "X_train, y_train = np.array(X_train), np.array(y_train)"
   ]
  },
  {
   "cell_type": "code",
   "execution_count": 7,
   "metadata": {},
   "outputs": [],
   "source": [
    "# Reshape data\n",
    "X_train = np.reshape(X_train, (X_train.shape[0], X_train.shape[1], 1))"
   ]
  },
  {
   "cell_type": "code",
   "execution_count": 8,
   "metadata": {},
   "outputs": [],
   "source": [
    "y_train = np.reshape(y_train, (y_train.shape[0], 1))"
   ]
  },
  {
   "cell_type": "code",
   "execution_count": 9,
   "metadata": {},
   "outputs": [
    {
     "data": {
      "text/plain": [
       "array([[0.19184479],\n",
       "       [0.18200647],\n",
       "       [0.17216828],\n",
       "       ...,\n",
       "       [0.34744337],\n",
       "       [0.34951456],\n",
       "       [0.34314563]])"
      ]
     },
     "execution_count": 9,
     "metadata": {},
     "output_type": "execute_result"
    }
   ],
   "source": [
    "y_train"
   ]
  },
  {
   "cell_type": "code",
   "execution_count": 39,
   "metadata": {},
   "outputs": [],
   "source": [
    "dataset_total = pd.concat((eurusd.Open.iloc[0:4149], eurusd.Open.iloc[4149:len(dataset)]), axis = 0)\n",
    "inputs = dataset_total[len(dataset_total) - len(test) - 60:].values\n",
    "inputs = inputs.reshape(-1,1)\n",
    "inputs = sc.transform(inputs)\n",
    "X_test = []\n",
    "y_test = []\n",
    "for i in range(60, 1098):\n",
    "    X_test.append(inputs[i-60:i, 0])\n",
    "    y_test.append(train_scaled[i, 0])\n",
    "X_test = np.array(X_test)\n",
    "X_test = np.reshape(X_test, (X_test.shape[0], X_test.shape[1], 1))\n",
    "y_test = np.array(y_test)\n",
    "y_test = np.reshape(y_test, (y_test.shape[0], 1))"
   ]
  },
  {
   "cell_type": "markdown",
   "metadata": {},
   "source": [
    "#### BUILD RNN MODEL"
   ]
  },
  {
   "cell_type": "code",
   "execution_count": 11,
   "metadata": {},
   "outputs": [],
   "source": [
    "# Importing the Keras Libarrios and Packages\n",
    "from keras.models import Sequential\n",
    "from keras.layers import Dense\n",
    "from keras.layers import LSTM\n",
    "from keras.layers import Dropout"
   ]
  },
  {
   "cell_type": "code",
   "execution_count": 12,
   "metadata": {},
   "outputs": [],
   "source": [
    "# Initializing the RNN\n",
    "\n",
    "regressor = Sequential()"
   ]
  },
  {
   "cell_type": "code",
   "execution_count": 13,
   "metadata": {},
   "outputs": [],
   "source": [
    "# Adding the first LSTM Layer and some Droupout regularisation\n",
    "regressor.add(LSTM(units = 50, return_sequences = True, input_shape = (X_train.shape[1], 1)))\n",
    "regressor.add(Dropout(0.2))"
   ]
  },
  {
   "cell_type": "code",
   "execution_count": 14,
   "metadata": {},
   "outputs": [],
   "source": [
    "# Adding the second LSTM layer and some Dropout regularisation\n",
    "regressor.add(LSTM(units = 50, return_sequences = True))\n",
    "regressor.add(Dropout(0.2))"
   ]
  },
  {
   "cell_type": "code",
   "execution_count": 15,
   "metadata": {},
   "outputs": [],
   "source": [
    "# Adding the third LSTM layer and some Dropout regularisation\n",
    "regressor.add(LSTM(units = 50, return_sequences = True))\n",
    "regressor.add(Dropout(0.2))"
   ]
  },
  {
   "cell_type": "code",
   "execution_count": 16,
   "metadata": {},
   "outputs": [],
   "source": [
    "# Adding the fourth LSTM layer and some Dropout regularisation\n",
    "regressor.add(LSTM(units = 50))\n",
    "regressor.add(Dropout(0.2))"
   ]
  },
  {
   "cell_type": "code",
   "execution_count": 17,
   "metadata": {},
   "outputs": [],
   "source": [
    "# Adding the output layer\n",
    "regressor.add(Dense(units = 1))"
   ]
  },
  {
   "cell_type": "code",
   "execution_count": 18,
   "metadata": {},
   "outputs": [],
   "source": [
    "# Compiling the RNN\n",
    "regressor.compile(optimizer = 'adam', loss = 'mean_squared_error')"
   ]
  },
  {
   "cell_type": "code",
   "execution_count": 31,
   "metadata": {},
   "outputs": [
    {
     "name": "stdout",
     "output_type": "stream",
     "text": [
      "Train on 4089 samples, validate on 978 samples\n",
      "Epoch 1/100\n",
      "4089/4089 [==============================] - 14s 3ms/step - loss: 6.0416e-04 - val_loss: 0.0279\n",
      "Epoch 2/100\n",
      "4089/4089 [==============================] - 15s 4ms/step - loss: 6.4776e-04 - val_loss: 0.0294\n",
      "Epoch 3/100\n",
      "4089/4089 [==============================] - 15s 4ms/step - loss: 5.8678e-04 - val_loss: 0.0298\n",
      "Epoch 4/100\n",
      "4089/4089 [==============================] - 15s 4ms/step - loss: 6.1041e-04 - val_loss: 0.0286\n",
      "Epoch 5/100\n",
      "4089/4089 [==============================] - 15s 4ms/step - loss: 6.0984e-04 - val_loss: 0.0278\n",
      "Epoch 6/100\n",
      "4089/4089 [==============================] - 15s 4ms/step - loss: 5.9435e-04 - val_loss: 0.0282\n",
      "Epoch 7/100\n",
      "4089/4089 [==============================] - 15s 4ms/step - loss: 5.5662e-04 - val_loss: 0.0302\n",
      "Epoch 8/100\n",
      "4089/4089 [==============================] - 17s 4ms/step - loss: 5.6851e-04 - val_loss: 0.0292\n",
      "Epoch 9/100\n",
      "4089/4089 [==============================] - 16s 4ms/step - loss: 5.9623e-04 - val_loss: 0.0295\n",
      "Epoch 10/100\n",
      "4089/4089 [==============================] - 16s 4ms/step - loss: 5.7694e-04 - val_loss: 0.0302\n",
      "Epoch 11/100\n",
      "4089/4089 [==============================] - 15s 4ms/step - loss: 6.5421e-04 - val_loss: 0.0294\n",
      "Epoch 12/100\n",
      "4089/4089 [==============================] - 16s 4ms/step - loss: 5.6045e-04 - val_loss: 0.0293\n",
      "Epoch 13/100\n",
      "4089/4089 [==============================] - 16s 4ms/step - loss: 6.0656e-04 - val_loss: 0.0290\n",
      "Epoch 14/100\n",
      "4089/4089 [==============================] - 15s 4ms/step - loss: 5.8620e-04 - val_loss: 0.0296\n",
      "Epoch 15/100\n",
      "4089/4089 [==============================] - 15s 4ms/step - loss: 5.9402e-04 - val_loss: 0.0288\n",
      "Epoch 16/100\n",
      "4089/4089 [==============================] - 15s 4ms/step - loss: 5.5920e-04 - val_loss: 0.0290\n",
      "Epoch 17/100\n",
      "4089/4089 [==============================] - 15s 4ms/step - loss: 5.6436e-04 - val_loss: 0.0293\n",
      "Epoch 18/100\n",
      "4089/4089 [==============================] - 15s 4ms/step - loss: 5.6958e-04 - val_loss: 0.0280\n",
      "Epoch 19/100\n",
      "4089/4089 [==============================] - 15s 4ms/step - loss: 6.1697e-04 - val_loss: 0.0301\n",
      "Epoch 20/100\n",
      "4089/4089 [==============================] - 15s 4ms/step - loss: 5.4995e-04 - val_loss: 0.0281\n",
      "Epoch 21/100\n",
      "4089/4089 [==============================] - 15s 4ms/step - loss: 5.5889e-04 - val_loss: 0.0281\n",
      "Epoch 22/100\n",
      "4089/4089 [==============================] - 15s 4ms/step - loss: 5.6161e-04 - val_loss: 0.0295\n",
      "Epoch 23/100\n",
      "4089/4089 [==============================] - 14s 4ms/step - loss: 5.9054e-04 - val_loss: 0.0301\n",
      "Epoch 24/100\n",
      "4089/4089 [==============================] - 14s 4ms/step - loss: 5.4849e-04 - val_loss: 0.0289\n",
      "Epoch 25/100\n",
      "4089/4089 [==============================] - 15s 4ms/step - loss: 5.6020e-04 - val_loss: 0.0310\n",
      "Epoch 00025: early stopping\n"
     ]
    },
    {
     "data": {
      "text/plain": [
       "<keras.callbacks.callbacks.History at 0x28feea959b0>"
      ]
     },
     "execution_count": 31,
     "metadata": {},
     "output_type": "execute_result"
    }
   ],
   "source": [
    "# Fitting the RNN to the training set\n",
    "es = EarlyStopping(monitor='val_loss', mode='min',  patience=20, verbose=1)\n",
    "regressor.fit(X_train, y_train, validation_data=(X_test, y_test), epochs = 100, batch_size = 30, callbacks=[es])"
   ]
  },
  {
   "cell_type": "code",
   "execution_count": 32,
   "metadata": {},
   "outputs": [
    {
     "name": "stdout",
     "output_type": "stream",
     "text": [
      "Model: \"sequential_1\"\n",
      "_________________________________________________________________\n",
      "Layer (type)                 Output Shape              Param #   \n",
      "=================================================================\n",
      "lstm_1 (LSTM)                (None, 60, 50)            10400     \n",
      "_________________________________________________________________\n",
      "dropout_1 (Dropout)          (None, 60, 50)            0         \n",
      "_________________________________________________________________\n",
      "lstm_2 (LSTM)                (None, 60, 50)            20200     \n",
      "_________________________________________________________________\n",
      "dropout_2 (Dropout)          (None, 60, 50)            0         \n",
      "_________________________________________________________________\n",
      "lstm_3 (LSTM)                (None, 60, 50)            20200     \n",
      "_________________________________________________________________\n",
      "dropout_3 (Dropout)          (None, 60, 50)            0         \n",
      "_________________________________________________________________\n",
      "lstm_4 (LSTM)                (None, 50)                20200     \n",
      "_________________________________________________________________\n",
      "dropout_4 (Dropout)          (None, 50)                0         \n",
      "_________________________________________________________________\n",
      "dense_1 (Dense)              (None, 1)                 51        \n",
      "=================================================================\n",
      "Total params: 71,051\n",
      "Trainable params: 71,051\n",
      "Non-trainable params: 0\n",
      "_________________________________________________________________\n"
     ]
    }
   ],
   "source": [
    "regressor.summary()"
   ]
  },
  {
   "cell_type": "code",
   "execution_count": 41,
   "metadata": {},
   "outputs": [],
   "source": [
    "# Making the predictions and visualizing the results\n",
    "#dataset_total = pd.concat((eurusd.Open.iloc[0:4149], eurusd.Open.iloc[4149:len(dataset)]), axis = 0)\n",
    "#inputs = dataset_total[len(dataset_total) - len(test) - 60:].values\n",
    "#inputs = inputs.reshape(-1,1)\n",
    "#inputs = sc.transform(inputs)\n",
    "#X_test = []\n",
    "#y_test = []\n",
    "#for i in range(60, 1098):\n",
    "#    X_test.append(inputs[i-60:i, 0])\n",
    "#    y_test.append(train_scaled[i, 0])\n",
    "#X_test = np.array(X_test)\n",
    "#X_test = np.reshape(X_test, (X_test.shape[0], X_test.shape[1], 1))\n",
    "#y_test = np.array(y_test)\n",
    "#y_test = np.reshape(y_test, (y_test.shape[0], y_test.shape[1], 1))\n",
    "predicted_exchange_rate = regressor.predict(X_test)\n",
    "predicted_exchange_rate = sc.inverse_transform(predicted_exchange_rate)"
   ]
  },
  {
   "cell_type": "code",
   "execution_count": 42,
   "metadata": {},
   "outputs": [
    {
     "data": {
      "image/png": "[encoded data removed]",
      "text/plain": [
       "<Figure size 1008x360 with 1 Axes>"
      ]
     },
     "metadata": {
      "needs_background": "light"
     },
     "output_type": "display_data"
    }
   ],
   "source": [
    "# Visualising the results\n",
    "plt.figure(figsize=(14,5))\n",
    "plt.plot(test, color = 'red', label = 'Real EURUSD Exchange Rate', linewidth=1)\n",
    "plt.plot(predicted_exchange_rate, color = 'blue', label = 'predicted_exchange_rate', linewidth=1)\n",
    "plt.title('EURUSD Exchange Rate Prediction')\n",
    "plt.xlabel('Time')\n",
    "plt.ylabel('EURUSD Exchage Rate')\n",
    "plt.legend()\n",
    "plt.show()"
   ]
  },
  {
   "cell_type": "code",
   "execution_count": 43,
   "metadata": {},
   "outputs": [],
   "source": [
    "y_test = regressor.predict(X_test)"
   ]
  },
  {
   "cell_type": "code",
   "execution_count": 45,
   "metadata": {},
   "outputs": [
    {
     "name": "stdout",
     "output_type": "stream",
     "text": [
      "Train on 4089 samples, validate on 1038 samples\n",
      "Epoch 1/100\n",
      "4089/4089 [==============================] - 15s 4ms/step - loss: 5.7607e-04 - val_loss: 2.0192e-04\n",
      "Epoch 2/100\n",
      "4089/4089 [==============================] - 16s 4ms/step - loss: 5.7313e-04 - val_loss: 8.7873e-05\n",
      "Epoch 3/100\n",
      "4089/4089 [==============================] - 16s 4ms/step - loss: 5.3632e-04 - val_loss: 1.7119e-04\n",
      "Epoch 4/100\n",
      "4089/4089 [==============================] - 17s 4ms/step - loss: 5.2299e-04 - val_loss: 5.7569e-04\n",
      "Epoch 5/100\n",
      "4089/4089 [==============================] - 16s 4ms/step - loss: 5.3289e-04 - val_loss: 1.4909e-05\n",
      "Epoch 6/100\n",
      "4089/4089 [==============================] - 15s 4ms/step - loss: 5.7393e-04 - val_loss: 1.0893e-04\n",
      "Epoch 7/100\n",
      "4089/4089 [==============================] - 15s 4ms/step - loss: 5.2849e-04 - val_loss: 3.9928e-05\n",
      "Epoch 8/100\n",
      "4089/4089 [==============================] - 17s 4ms/step - loss: 5.4992e-04 - val_loss: 5.5555e-05\n",
      "Epoch 9/100\n",
      "4089/4089 [==============================] - 16s 4ms/step - loss: 5.4863e-04 - val_loss: 5.7977e-04\n",
      "Epoch 10/100\n",
      "4089/4089 [==============================] - 16s 4ms/step - loss: 5.4622e-04 - val_loss: 3.1103e-04\n",
      "Epoch 11/100\n",
      "4089/4089 [==============================] - 15s 4ms/step - loss: 5.0060e-04 - val_loss: 4.2169e-05\n",
      "Epoch 12/100\n",
      "4089/4089 [==============================] - 15s 4ms/step - loss: 5.1395e-04 - val_loss: 5.2778e-04\n",
      "Epoch 13/100\n",
      "4089/4089 [==============================] - 15s 4ms/step - loss: 5.6461e-04 - val_loss: 3.4197e-04\n",
      "Epoch 14/100\n",
      "4089/4089 [==============================] - 15s 4ms/step - loss: 5.2690e-04 - val_loss: 1.0921e-04\n",
      "Epoch 15/100\n",
      "4089/4089 [==============================] - 14s 3ms/step - loss: 5.8551e-04 - val_loss: 2.6914e-04\n",
      "Epoch 16/100\n",
      "4089/4089 [==============================] - 14s 4ms/step - loss: 5.0851e-04 - val_loss: 7.0710e-04\n",
      "Epoch 17/100\n",
      "4089/4089 [==============================] - 15s 4ms/step - loss: 5.3953e-04 - val_loss: 6.3855e-04\n",
      "Epoch 18/100\n",
      "4089/4089 [==============================] - 15s 4ms/step - loss: 5.3597e-04 - val_loss: 3.2910e-04\n",
      "Epoch 19/100\n",
      "4089/4089 [==============================] - 16s 4ms/step - loss: 5.3253e-04 - val_loss: 3.5562e-04\n",
      "Epoch 20/100\n",
      "4089/4089 [==============================] - 15s 4ms/step - loss: 4.9348e-04 - val_loss: 5.8619e-05\n",
      "Epoch 21/100\n",
      "4089/4089 [==============================] - 15s 4ms/step - loss: 6.1337e-04 - val_loss: 1.5337e-05\n",
      "Epoch 22/100\n",
      "4089/4089 [==============================] - 16s 4ms/step - loss: 5.5126e-04 - val_loss: 1.1111e-04\n",
      "Epoch 23/100\n",
      "4089/4089 [==============================] - 15s 4ms/step - loss: 4.8270e-04 - val_loss: 3.4757e-04\n",
      "Epoch 24/100\n",
      "4089/4089 [==============================] - 15s 4ms/step - loss: 4.9060e-04 - val_loss: 4.3174e-04\n",
      "Epoch 25/100\n",
      "4089/4089 [==============================] - 17s 4ms/step - loss: 5.3812e-04 - val_loss: 4.5465e-04\n",
      "Epoch 00025: early stopping\n"
     ]
    }
   ],
   "source": [
    "history = regressor.fit(X_train, y_train, validation_data=(X_test, y_test), epochs = 100, batch_size = 30, callbacks=[es])"
   ]
  },
  {
   "cell_type": "code",
   "execution_count": 46,
   "metadata": {},
   "outputs": [
    {
     "data": {
      "image/png": "[encoded data removed]",
      "text/plain": [
       "<Figure size 576x288 with 1 Axes>"
      ]
     },
     "metadata": {
      "needs_background": "light"
     },
     "output_type": "display_data"
    }
   ],
   "source": [
    "# MODEL LOSS\n",
    "plt.figure(figsize=(8,4))\n",
    "plt.plot(history.history['loss'], label='Train Loss')\n",
    "plt.plot(history.history['val_loss'], label='Test Loss')\n",
    "plt.title('model loss')\n",
    "plt.ylabel('loss')\n",
    "plt.xlabel('epochs')\n",
    "plt.legend(loc='upper right')\n",
    "plt.show();"
   ]
  },
  {
   "cell_type": "code",
   "execution_count": 47,
   "metadata": {},
   "outputs": [
    {
     "ename": "NameError",
     "evalue": "name 'sqrt' is not defined",
     "output_type": "error",
     "traceback": [
      "\u001b[1;31m---------------------------------------------------------------------------\u001b[0m",
      "\u001b[1;31mNameError\u001b[0m                                 Traceback (most recent call last)",
      "\u001b[1;32m<ipython-input-47-f085a5ee3677>\u001b[0m in \u001b[0;36m<module>\u001b[1;34m\u001b[0m\n\u001b[1;32m----> 1\u001b[1;33m \u001b[0mrmse\u001b[0m \u001b[1;33m=\u001b[0m \u001b[0msqrt\u001b[0m\u001b[1;33m(\u001b[0m\u001b[0mmean_squared_error\u001b[0m\u001b[1;33m(\u001b[0m\u001b[0mraw_values\u001b[0m\u001b[1;33m[\u001b[0m\u001b[1;33m-\u001b[0m\u001b[1;36m12\u001b[0m\u001b[1;33m:\u001b[0m\u001b[1;33m]\u001b[0m\u001b[1;33m,\u001b[0m \u001b[0mpredictions\u001b[0m\u001b[1;33m)\u001b[0m\u001b[1;33m)\u001b[0m\u001b[1;33m\u001b[0m\u001b[1;33m\u001b[0m\u001b[0m\n\u001b[0m\u001b[0;32m      2\u001b[0m \u001b[0mprint\u001b[0m\u001b[1;33m(\u001b[0m\u001b[1;34m'Test RMSE: %.3f'\u001b[0m \u001b[1;33m%\u001b[0m \u001b[0mrmse\u001b[0m\u001b[1;33m)\u001b[0m\u001b[1;33m\u001b[0m\u001b[1;33m\u001b[0m\u001b[0m\n",
      "\u001b[1;31mNameError\u001b[0m: name 'sqrt' is not defined"
     ]
    }
   ],
   "source": [
    "rmse = sqrt(mean_squared_error(test, predicted_exchange_rate))\n",
    "print('Test RMSE: %.3f' % rmse)"
   ]
  }
 ],
 "metadata": {
  "kernelspec": {
   "display_name": "Python 3",
   "language": "python",
   "name": "python3"
  },
  "language_info": {
   "codemirror_mode": {
    "name": "ipython",
    "version": 3
   },
   "file_extension": ".py",
   "mimetype": "text/x-python",
   "name": "python",
   "nbconvert_exporter": "python",
   "pygments_lexer": "ipython3",
   "version": "3.7.3"
  }
 },
 "nbformat": 4,
 "nbformat_minor": 2
}
