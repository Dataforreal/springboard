{
 "cells": [
  {
   "cell_type": "markdown",
   "metadata": {},
   "source": [
    "#### Capstone 2 Arima Model"
   ]
  },
  {
   "cell_type": "code",
   "execution_count": 1,
   "metadata": {},
   "outputs": [
    {
     "name": "stderr",
     "output_type": "stream",
     "text": [
      "Using TensorFlow backend.\n"
     ]
    }
   ],
   "source": [
    "#import Libraries\n",
    "import numpy as np\n",
    "import matplotlib.pyplot as plt\n",
    "import pandas as pd\n",
    "pd.set_option('display.float_format', lambda x: '%.4f' % x)\n",
    "import seaborn as sns\n",
    "sns.set_context(\"paper\", font_scale=1.3)\n",
    "sns.set_style('white')\n",
    "import warnings\n",
    "warnings.filterwarnings('ignore')\n",
    "from time import time\n",
    "import matplotlib.ticker as tkr\n",
    "from scipy import stats\n",
    "from statsmodels.tsa.stattools import adfuller\n",
    "from sklearn import preprocessing\n",
    "from statsmodels.tsa.stattools import pacf\n",
    "%matplotlib inline\n",
    "import math\n",
    "import keras\n",
    "from keras.models import Sequential\n",
    "from keras.layers import Dense\n",
    "from keras.layers import LSTM\n",
    "from keras.layers import Dropout\n",
    "from keras.layers import *\n",
    "from sklearn.preprocessing import MinMaxScaler\n",
    "from sklearn.metrics import mean_squared_error\n",
    "from sklearn.metrics import mean_absolute_error\n",
    "from keras.callbacks import EarlyStopping"
   ]
  },
  {
   "cell_type": "code",
   "execution_count": 2,
   "metadata": {},
   "outputs": [],
   "source": [
    "#get data\n",
    "eurusd = pd.read_csv(r'eurousd.csv', index_col=0, parse_dates=True, skipinitialspace=True)"
   ]
  },
  {
   "cell_type": "code",
   "execution_count": 3,
   "metadata": {},
   "outputs": [
    {
     "data": {
      "text/html": [
       "<div>\n",
       "<style scoped>\n",
       "    .dataframe tbody tr th:only-of-type {\n",
       "        vertical-align: middle;\n",
       "    }\n",
       "\n",
       "    .dataframe tbody tr th {\n",
       "        vertical-align: top;\n",
       "    }\n",
       "\n",
       "    .dataframe thead th {\n",
       "        text-align: right;\n",
       "    }\n",
       "</style>\n",
       "<table border=\"1\" class=\"dataframe\">\n",
       "  <thead>\n",
       "    <tr style=\"text-align: right;\">\n",
       "      <th></th>\n",
       "      <th>Open</th>\n",
       "      <th>High</th>\n",
       "      <th>Low</th>\n",
       "      <th>close</th>\n",
       "      <th>Change</th>\n",
       "      <th>Volume</th>\n",
       "    </tr>\n",
       "    <tr>\n",
       "      <th>date</th>\n",
       "      <th></th>\n",
       "      <th></th>\n",
       "      <th></th>\n",
       "      <th></th>\n",
       "      <th></th>\n",
       "      <th></th>\n",
       "    </tr>\n",
       "  </thead>\n",
       "  <tbody>\n",
       "    <tr>\n",
       "      <td>2000-01-03</td>\n",
       "      <td>1.0085</td>\n",
       "      <td>1.0280</td>\n",
       "      <td>1.0055</td>\n",
       "      <td>1.0256</td>\n",
       "      <td>0.0168</td>\n",
       "      <td>0</td>\n",
       "    </tr>\n",
       "    <tr>\n",
       "      <td>2000-01-04</td>\n",
       "      <td>1.0255</td>\n",
       "      <td>1.0340</td>\n",
       "      <td>1.0217</td>\n",
       "      <td>1.0301</td>\n",
       "      <td>0.0045</td>\n",
       "      <td>0</td>\n",
       "    </tr>\n",
       "    <tr>\n",
       "      <td>2000-01-05</td>\n",
       "      <td>1.0304</td>\n",
       "      <td>1.0400</td>\n",
       "      <td>1.0289</td>\n",
       "      <td>1.0315</td>\n",
       "      <td>0.0014</td>\n",
       "      <td>0</td>\n",
       "    </tr>\n",
       "    <tr>\n",
       "      <td>2000-01-06</td>\n",
       "      <td>1.0320</td>\n",
       "      <td>1.0413</td>\n",
       "      <td>1.0283</td>\n",
       "      <td>1.0315</td>\n",
       "      <td>0.0000</td>\n",
       "      <td>0</td>\n",
       "    </tr>\n",
       "    <tr>\n",
       "      <td>2000-01-07</td>\n",
       "      <td>1.0317</td>\n",
       "      <td>1.0333</td>\n",
       "      <td>1.0263</td>\n",
       "      <td>1.0296</td>\n",
       "      <td>-0.0019</td>\n",
       "      <td>0</td>\n",
       "    </tr>\n",
       "  </tbody>\n",
       "</table>\n",
       "</div>"
      ],
      "text/plain": [
       "             Open   High    Low  close  Change  Volume\n",
       "date                                                  \n",
       "2000-01-03 1.0085 1.0280 1.0055 1.0256  0.0168       0\n",
       "2000-01-04 1.0255 1.0340 1.0217 1.0301  0.0045       0\n",
       "2000-01-05 1.0304 1.0400 1.0289 1.0315  0.0014       0\n",
       "2000-01-06 1.0320 1.0413 1.0283 1.0315  0.0000       0\n",
       "2000-01-07 1.0317 1.0333 1.0263 1.0296 -0.0019       0"
      ]
     },
     "execution_count": 3,
     "metadata": {},
     "output_type": "execute_result"
    }
   ],
   "source": [
    "# Inspect first five rows of data\n",
    "eurusd.head()"
   ]
  },
  {
   "cell_type": "code",
   "execution_count": 4,
   "metadata": {},
   "outputs": [
    {
     "data": {
      "text/html": [
       "<div>\n",
       "<style scoped>\n",
       "    .dataframe tbody tr th:only-of-type {\n",
       "        vertical-align: middle;\n",
       "    }\n",
       "\n",
       "    .dataframe tbody tr th {\n",
       "        vertical-align: top;\n",
       "    }\n",
       "\n",
       "    .dataframe thead th {\n",
       "        text-align: right;\n",
       "    }\n",
       "</style>\n",
       "<table border=\"1\" class=\"dataframe\">\n",
       "  <thead>\n",
       "    <tr style=\"text-align: right;\">\n",
       "      <th></th>\n",
       "      <th>Open</th>\n",
       "      <th>High</th>\n",
       "      <th>Low</th>\n",
       "      <th>close</th>\n",
       "      <th>Change</th>\n",
       "      <th>Volume</th>\n",
       "    </tr>\n",
       "    <tr>\n",
       "      <th>date</th>\n",
       "      <th></th>\n",
       "      <th></th>\n",
       "      <th></th>\n",
       "      <th></th>\n",
       "      <th></th>\n",
       "      <th></th>\n",
       "    </tr>\n",
       "  </thead>\n",
       "  <tbody>\n",
       "    <tr>\n",
       "      <td>2019-12-20</td>\n",
       "      <td>1.1120</td>\n",
       "      <td>1.1125</td>\n",
       "      <td>1.1066</td>\n",
       "      <td>1.1075</td>\n",
       "      <td>-0.0045</td>\n",
       "      <td>119919</td>\n",
       "    </tr>\n",
       "    <tr>\n",
       "      <td>2019-12-23</td>\n",
       "      <td>1.1082</td>\n",
       "      <td>1.1095</td>\n",
       "      <td>1.1070</td>\n",
       "      <td>1.1088</td>\n",
       "      <td>0.0014</td>\n",
       "      <td>109071</td>\n",
       "    </tr>\n",
       "    <tr>\n",
       "      <td>2019-12-24</td>\n",
       "      <td>1.1088</td>\n",
       "      <td>1.1094</td>\n",
       "      <td>1.1069</td>\n",
       "      <td>1.1088</td>\n",
       "      <td>-0.0001</td>\n",
       "      <td>102337</td>\n",
       "    </tr>\n",
       "    <tr>\n",
       "      <td>2019-12-26</td>\n",
       "      <td>1.1093</td>\n",
       "      <td>1.1112</td>\n",
       "      <td>1.1082</td>\n",
       "      <td>1.1095</td>\n",
       "      <td>0.0008</td>\n",
       "      <td>59499</td>\n",
       "    </tr>\n",
       "    <tr>\n",
       "      <td>2019-12-27</td>\n",
       "      <td>1.1095</td>\n",
       "      <td>1.1188</td>\n",
       "      <td>1.1094</td>\n",
       "      <td>1.1173</td>\n",
       "      <td>0.0077</td>\n",
       "      <td>157620</td>\n",
       "    </tr>\n",
       "  </tbody>\n",
       "</table>\n",
       "</div>"
      ],
      "text/plain": [
       "             Open   High    Low  close  Change  Volume\n",
       "date                                                  \n",
       "2019-12-20 1.1120 1.1125 1.1066 1.1075 -0.0045  119919\n",
       "2019-12-23 1.1082 1.1095 1.1070 1.1088  0.0014  109071\n",
       "2019-12-24 1.1088 1.1094 1.1069 1.1088 -0.0001  102337\n",
       "2019-12-26 1.1093 1.1112 1.1082 1.1095  0.0008   59499\n",
       "2019-12-27 1.1095 1.1188 1.1094 1.1173  0.0077  157620"
      ]
     },
     "execution_count": 4,
     "metadata": {},
     "output_type": "execute_result"
    }
   ],
   "source": [
    "# Inspect last five rows of data\n",
    "eurusd.tail()"
   ]
  },
  {
   "cell_type": "code",
   "execution_count": 5,
   "metadata": {},
   "outputs": [
    {
     "data": {
      "text/plain": [
       "DatetimeIndex(['2000-01-03', '2000-01-04', '2000-01-05', '2000-01-06',\n",
       "               '2000-01-07', '2000-01-10', '2000-01-11', '2000-01-12',\n",
       "               '2000-01-13', '2000-01-14',\n",
       "               ...\n",
       "               '2019-12-13', '2019-12-16', '2019-12-17', '2019-12-18',\n",
       "               '2019-12-19', '2019-12-20', '2019-12-23', '2019-12-24',\n",
       "               '2019-12-26', '2019-12-27'],\n",
       "              dtype='datetime64[ns]', name='date', length=5187, freq=None)"
      ]
     },
     "execution_count": 5,
     "metadata": {},
     "output_type": "execute_result"
    }
   ],
   "source": [
    "# Inspect index\n",
    "eurusd.index"
   ]
  },
  {
   "cell_type": "code",
   "execution_count": 6,
   "metadata": {},
   "outputs": [
    {
     "data": {
      "text/plain": [
       "Open      float64\n",
       "High      float64\n",
       "Low       float64\n",
       "close     float64\n",
       "Change    float64\n",
       "Volume      int64\n",
       "dtype: object"
      ]
     },
     "execution_count": 6,
     "metadata": {},
     "output_type": "execute_result"
    }
   ],
   "source": [
    "# Inspect datatypes\n",
    "eurusd.dtypes"
   ]
  },
  {
   "cell_type": "code",
   "execution_count": 7,
   "metadata": {},
   "outputs": [],
   "source": [
    "# Select 'open column'\n",
    "eurusdOpen = eurusd.Open"
   ]
  },
  {
   "cell_type": "code",
   "execution_count": 8,
   "metadata": {},
   "outputs": [
    {
     "data": {
      "text/plain": [
       "count   5187.0000\n",
       "mean       1.2093\n",
       "std        0.1666\n",
       "min        0.8266\n",
       "25%        1.1103\n",
       "50%        1.2258\n",
       "75%        1.3315\n",
       "max        1.5991\n",
       "Name: Open, dtype: float64"
      ]
     },
     "execution_count": 8,
     "metadata": {},
     "output_type": "execute_result"
    }
   ],
   "source": [
    "# Descrobe summary statistics\n",
    "eurusdOpen.describe() "
   ]
  },
  {
   "cell_type": "code",
   "execution_count": 9,
   "metadata": {},
   "outputs": [
    {
     "name": "stdout",
     "output_type": "stream",
     "text": [
      "Open      0\n",
      "High      0\n",
      "Low       0\n",
      "close     0\n",
      "Change    0\n",
      "Volume    0\n",
      "dtype: int64\n"
     ]
    }
   ],
   "source": [
    "# Check for missing data\n",
    "print(eurusd.isnull().sum())"
   ]
  },
  {
   "cell_type": "markdown",
   "metadata": {},
   "source": [
    "There are no missing values in the data set"
   ]
  },
  {
   "cell_type": "code",
   "execution_count": 10,
   "metadata": {},
   "outputs": [
    {
     "data": {
      "text/plain": [
       "<matplotlib.axes._subplots.AxesSubplot at 0x1b1b93d5f60>"
      ]
     },
     "execution_count": 10,
     "metadata": {},
     "output_type": "execute_result"
    },
    {
     "data": {
      "image/png": "[encoded data removed]",
      "text/plain": [
       "<Figure size 432x288 with 1 Axes>"
      ]
     },
     "metadata": {
      "needs_background": "light"
     },
     "output_type": "display_data"
    }
   ],
   "source": [
    "eurusdOpen.hist()"
   ]
  },
  {
   "cell_type": "markdown",
   "metadata": {},
   "source": [
    "#### Statistical Normality Test"
   ]
  },
  {
   "cell_type": "code",
   "execution_count": 11,
   "metadata": {},
   "outputs": [],
   "source": [
    "# Quantify whether data looks as though it was drawn from a Gaussian distribution, using the D’Agostino’s K² Test."
   ]
  },
  {
   "cell_type": "markdown",
   "metadata": {},
   "source": [
    "### p <= alpha: reject H0, not normal.\n",
    "\n",
    "### p > alpha: fail to reject H0, normal"
   ]
  },
  {
   "cell_type": "code",
   "execution_count": 12,
   "metadata": {},
   "outputs": [
    {
     "name": "stdout",
     "output_type": "stream",
     "text": [
      "Statistics=137.462, p=0.000\n",
      "Data does not look Gaussian (reject H0)\n"
     ]
    }
   ],
   "source": [
    "stat, p = stats.normaltest(eurusd.Open)\n",
    "print('Statistics=%.3f, p=%.3f' % (stat, p))\n",
    "alpha = 0.05\n",
    "if p > alpha:\n",
    "    print('Data looks Gaussian (fail to reject H0)')\n",
    "else:\n",
    "    print('Data does not look Gaussian (reject H0)')"
   ]
  },
  {
   "cell_type": "code",
   "execution_count": 13,
   "metadata": {},
   "outputs": [
    {
     "name": "stdout",
     "output_type": "stream",
     "text": [
      "Kurtosis of normal distribution: -0.43764565397320476\n",
      "Skewness of normal distribution: -0.28706678364379545\n"
     ]
    },
    {
     "data": {
      "image/png": "[encoded data removed]",
      "text/plain": [
       "<Figure size 432x288 with 1 Axes>"
      ]
     },
     "metadata": {
      "needs_background": "light"
     },
     "output_type": "display_data"
    }
   ],
   "source": [
    "sns.distplot(eurusd.Open);\n",
    "print( 'Kurtosis of normal distribution: {}'.format(stats.kurtosis(eurusd.Open)))\n",
    "print( 'Skewness of normal distribution: {}'.format(stats.skew(eurusd.Open)))"
   ]
  },
  {
   "cell_type": "markdown",
   "metadata": {},
   "source": [
    "##### The kurtosis of the distributiion above is less than zero and is light tailed. The distribution is fairly symmetrical"
   ]
  },
  {
   "cell_type": "code",
   "execution_count": 14,
   "metadata": {},
   "outputs": [
    {
     "data": {
      "text/html": [
       "<div>\n",
       "<style scoped>\n",
       "    .dataframe tbody tr th:only-of-type {\n",
       "        vertical-align: middle;\n",
       "    }\n",
       "\n",
       "    .dataframe tbody tr th {\n",
       "        vertical-align: top;\n",
       "    }\n",
       "\n",
       "    .dataframe thead th {\n",
       "        text-align: right;\n",
       "    }\n",
       "</style>\n",
       "<table border=\"1\" class=\"dataframe\">\n",
       "  <thead>\n",
       "    <tr style=\"text-align: right;\">\n",
       "      <th></th>\n",
       "      <th>count</th>\n",
       "      <th>mean</th>\n",
       "      <th>std</th>\n",
       "      <th>min</th>\n",
       "      <th>25%</th>\n",
       "      <th>50%</th>\n",
       "      <th>75%</th>\n",
       "      <th>max</th>\n",
       "    </tr>\n",
       "  </thead>\n",
       "  <tbody>\n",
       "    <tr>\n",
       "      <td>Open</td>\n",
       "      <td>5187.0000</td>\n",
       "      <td>1.2093</td>\n",
       "      <td>0.1666</td>\n",
       "      <td>0.8266</td>\n",
       "      <td>1.1103</td>\n",
       "      <td>1.2258</td>\n",
       "      <td>1.3315</td>\n",
       "      <td>1.5991</td>\n",
       "    </tr>\n",
       "    <tr>\n",
       "      <td>High</td>\n",
       "      <td>5187.0000</td>\n",
       "      <td>1.2147</td>\n",
       "      <td>0.1672</td>\n",
       "      <td>0.8322</td>\n",
       "      <td>1.1149</td>\n",
       "      <td>1.2313</td>\n",
       "      <td>1.3372</td>\n",
       "      <td>1.6038</td>\n",
       "    </tr>\n",
       "    <tr>\n",
       "      <td>Low</td>\n",
       "      <td>5187.0000</td>\n",
       "      <td>1.2039</td>\n",
       "      <td>0.1658</td>\n",
       "      <td>0.8230</td>\n",
       "      <td>1.1067</td>\n",
       "      <td>1.2196</td>\n",
       "      <td>1.3254</td>\n",
       "      <td>1.5866</td>\n",
       "    </tr>\n",
       "    <tr>\n",
       "      <td>close</td>\n",
       "      <td>5187.0000</td>\n",
       "      <td>1.2093</td>\n",
       "      <td>0.1666</td>\n",
       "      <td>0.8271</td>\n",
       "      <td>1.1105</td>\n",
       "      <td>1.2259</td>\n",
       "      <td>1.3314</td>\n",
       "      <td>1.5990</td>\n",
       "    </tr>\n",
       "    <tr>\n",
       "      <td>Change</td>\n",
       "      <td>5187.0000</td>\n",
       "      <td>0.0000</td>\n",
       "      <td>0.0074</td>\n",
       "      <td>-0.0348</td>\n",
       "      <td>-0.0041</td>\n",
       "      <td>0.0001</td>\n",
       "      <td>0.0041</td>\n",
       "      <td>0.0467</td>\n",
       "    </tr>\n",
       "    <tr>\n",
       "      <td>Volume</td>\n",
       "      <td>5187.0000</td>\n",
       "      <td>119833.2103</td>\n",
       "      <td>155557.6128</td>\n",
       "      <td>0.0000</td>\n",
       "      <td>0.0000</td>\n",
       "      <td>0.0000</td>\n",
       "      <td>229402.5000</td>\n",
       "      <td>763921.0000</td>\n",
       "    </tr>\n",
       "  </tbody>\n",
       "</table>\n",
       "</div>"
      ],
      "text/plain": [
       "           count        mean         std     min     25%    50%         75%  \\\n",
       "Open   5187.0000      1.2093      0.1666  0.8266  1.1103 1.2258      1.3315   \n",
       "High   5187.0000      1.2147      0.1672  0.8322  1.1149 1.2313      1.3372   \n",
       "Low    5187.0000      1.2039      0.1658  0.8230  1.1067 1.2196      1.3254   \n",
       "close  5187.0000      1.2093      0.1666  0.8271  1.1105 1.2259      1.3314   \n",
       "Change 5187.0000      0.0000      0.0074 -0.0348 -0.0041 0.0001      0.0041   \n",
       "Volume 5187.0000 119833.2103 155557.6128  0.0000  0.0000 0.0000 229402.5000   \n",
       "\n",
       "               max  \n",
       "Open        1.5991  \n",
       "High        1.6038  \n",
       "Low         1.5866  \n",
       "close       1.5990  \n",
       "Change      0.0467  \n",
       "Volume 763921.0000  "
      ]
     },
     "execution_count": 14,
     "metadata": {},
     "output_type": "execute_result"
    },
    {
     "data": {
      "image/png": "[encoded data removed]",
      "text/plain": [
       "<Figure size 1008x432 with 2 Axes>"
      ]
     },
     "metadata": {
      "needs_background": "light"
     },
     "output_type": "display_data"
    }
   ],
   "source": [
    "plt.figure(figsize=(14,6))\n",
    "plt.subplot(1,2,1)\n",
    "eurusd['Open'].hist(bins=50)\n",
    "plt.title('eurusd exchange rate Distribution')\n",
    "plt.subplot(1,2,2)\n",
    "stats.probplot(eurusd['Open'], plot=plt);\n",
    "eurusd.describe().T"
   ]
  },
  {
   "cell_type": "markdown",
   "metadata": {},
   "source": [
    "#### Stationarity\n",
    "I used the Dickey–Fuller test to test the null hypothesis that a unit root is present in an autoregressive model. \n",
    "Stationary series has constant mean and variance over time. \n",
    "Rolling average and the rolling standard deviation of time series do not change over time."
   ]
  },
  {
   "cell_type": "markdown",
   "metadata": {},
   "source": [
    "Dickey-Fuller test\n",
    "Null Hypothesis (H0): Time series has a unit root, meaning it is non-stationary.\n",
    "Alternate Hypothesis (H1): Suggests the time series does not have a unit root, meaning it is stationary. "
   ]
  },
  {
   "cell_type": "markdown",
   "metadata": {},
   "source": [
    "#### p-value > 0.05: Accept the null hypothesis (H0), the data has a unit root and is non-stationary.\n",
    "#### p-value <= 0.05: Reject the null hypothesis (H0), the data does not have a unit root and is stationary."
   ]
  },
  {
   "cell_type": "code",
   "execution_count": 15,
   "metadata": {},
   "outputs": [
    {
     "data": {
      "image/png": "[encoded data removed]",
      "text/plain": [
       "<Figure size 1008x360 with 1 Axes>"
      ]
     },
     "metadata": {
      "needs_background": "light"
     },
     "output_type": "display_data"
    },
    {
     "name": "stdout",
     "output_type": "stream",
     "text": [
      "<Results of Dickey-Fuller Test>\n",
      "Test Statistic                  -1.7766\n",
      "p-value                          0.3921\n",
      "#Lags Used                       0.0000\n",
      "Number of Observations Used   5186.0000\n",
      "Critical Value (1%)             -3.4316\n",
      "Critical Value (5%)             -2.8621\n",
      "Critical Value (10%)            -2.5671\n",
      "dtype: float64\n"
     ]
    }
   ],
   "source": [
    "df2=eurusd.resample('D', how=np.mean)\n",
    "def test_stationarity(timeseries):\n",
    "\n",
    "    rolmean = timeseries.rolling(window=30).mean()\n",
    "\n",
    "    rolstd = timeseries.rolling(window=30).std()\n",
    "\n",
    "    \n",
    "\n",
    "    plt.figure(figsize=(14,5))\n",
    "\n",
    "    sns.despine(left=True)\n",
    "\n",
    "    orig = plt.plot(timeseries, color='blue',label='Original')\n",
    "\n",
    "    mean = plt.plot(rolmean, color='red', label='Rolling Mean')\n",
    "\n",
    "    std = plt.plot(rolstd, color='black', label = 'Rolling Std')\n",
    "\n",
    "\n",
    "\n",
    "    plt.legend(loc='best'); plt.title('Rolling Mean & Standard Deviation')\n",
    "\n",
    "    plt.show()\n",
    "\n",
    "    \n",
    "\n",
    "    print ('<Results of Dickey-Fuller Test>')\n",
    "\n",
    "    dftest = adfuller(timeseries, autolag='AIC')\n",
    "\n",
    "    dfoutput = pd.Series(dftest[0:4],\n",
    "\n",
    "                         index=['Test Statistic','p-value','#Lags Used','Number of Observations Used'])\n",
    "\n",
    "    for key,value in dftest[4].items():\n",
    "\n",
    "        dfoutput['Critical Value (%s)'%key] = value\n",
    "\n",
    "    print(dfoutput)\n",
    "\n",
    "test_stationarity(df2.Open.dropna())"
   ]
  },
  {
   "cell_type": "markdown",
   "metadata": {},
   "source": [
    "From the above results, it is clear that the Standard deviation is stationary, while the mean is not. We will reject the null hypothesis H0, the data does not have a unit root and is stationary."
   ]
  },
  {
   "cell_type": "code",
   "execution_count": 19,
   "metadata": {},
   "outputs": [],
   "source": [
    "# Split Dataset into training and test using a 70% split in favor of train\n",
    "size = int(len(eurusd.Open) * 0.70)\n",
    "train, test = pd.DataFrame(eurusd.Open[0:size]), pd.DataFrame(eurusd.Open[size:len(eurusd.Open)])"
   ]
  },
  {
   "cell_type": "markdown",
   "metadata": {},
   "source": [
    "Scale Data"
   ]
  },
  {
   "cell_type": "code",
   "execution_count": 27,
   "metadata": {},
   "outputs": [],
   "source": [
    "sc = preprocessing.StandardScaler()\n",
    "training_set_scaled = sc.fit_transform(train)\n",
    "#training_set_scaled =  pd.DataFrame(training_set_scaled)"
   ]
  },
  {
   "cell_type": "markdown",
   "metadata": {},
   "source": [
    "Creating Data with Timesteps\n",
    " \n",
    "LSTMs expect data to be in a specific format, usually a 3D array"
   ]
  },
  {
   "cell_type": "code",
   "execution_count": 28,
   "metadata": {},
   "outputs": [],
   "source": [
    "X_train = []\n",
    "y_train = []\n",
    "for i in range(60, 2035):\n",
    "    X_train.append(training_set_scaled[i-60:i, 0])\n",
    "    y_train.append(training_set_scaled[i, 0])\n",
    "X_train, y_train = np.array(X_train), np.array(y_train)\n",
    "\n",
    "X_train = np.reshape(X_train, (X_train.shape[0], X_train.shape[1], 1))"
   ]
  },
  {
   "cell_type": "markdown",
   "metadata": {},
   "source": [
    "50 units which is the dimensionality of the output space\n",
    "return_sequences=True which determines whether to return the last output in the output sequence, or the full sequence\n",
    "input_shape as the shape of our training set.\n",
    "When defining the Dropout layers, we specify 0.2, meaning that 20% of the layers will be dropped. Thereafter, we add the Dense layer that specifies the output of 1 unit. After this, we compile our model using the popular adam optimizer and set the loss as the mean_squarred_error. This will compute the mean of the squared errors. Next, we fit the model to run on 100 epochs with a batch size of 32. Keep in mind that, depending on the specs of your computer, this might take a few minutes to finish running."
   ]
  },
  {
   "cell_type": "code",
   "execution_count": null,
   "metadata": {},
   "outputs": [
    {
     "name": "stdout",
     "output_type": "stream",
     "text": [
      "Epoch 1/100\n",
      "1975/1975 [==============================] - 11s 6ms/step - loss: 0.1176\n",
      "Epoch 2/100\n",
      "1975/1975 [==============================] - 9s 5ms/step - loss: 0.0282\n",
      "Epoch 3/100\n",
      "1975/1975 [==============================] - 9s 5ms/step - loss: 0.0236\n",
      "Epoch 4/100\n",
      "1975/1975 [==============================] - 9s 5ms/step - loss: 0.0210\n",
      "Epoch 5/100\n",
      "1975/1975 [==============================] - 9s 5ms/step - loss: 0.0227\n",
      "Epoch 6/100\n",
      "1975/1975 [==============================] - 9s 5ms/step - loss: 0.0195\n",
      "Epoch 7/100\n",
      "1975/1975 [==============================] - 9s 5ms/step - loss: 0.0187A\n",
      "Epoch 8/100\n",
      " 288/1975 [===>..........................] - ETA: 7s - loss: 0.0169"
     ]
    }
   ],
   "source": [
    "regressor = Sequential()\n",
    "\n",
    "regressor.add(LSTM(units = 50, return_sequences = True, input_shape = (X_train.shape[1], 1)))\n",
    "regressor.add(Dropout(0.2))\n",
    "\n",
    "regressor.add(LSTM(units = 50, return_sequences = True))\n",
    "regressor.add(Dropout(0.2))\n",
    "\n",
    "regressor.add(LSTM(units = 50, return_sequences = True))\n",
    "regressor.add(Dropout(0.2))\n",
    "\n",
    "regressor.add(LSTM(units = 50))\n",
    "regressor.add(Dropout(0.2))\n",
    "\n",
    "regressor.add(Dense(units = 1))\n",
    "\n",
    "regressor.compile(optimizer = 'adam', loss = 'mean_squared_error')\n",
    "\n",
    "regressor.fit(X_train, y_train, epochs = 100, batch_size = 32)"
   ]
  },
  {
   "cell_type": "code",
   "execution_count": null,
   "metadata": {},
   "outputs": [],
   "source": [
    "dataset_total = pd.concat((train['Open'], test['Open']), axis = 0)\n",
    "inputs = dataset_total[len(dataset_total) - len(test) - 60:].values\n",
    "inputs = inputs.reshape(-1,1)\n",
    "inputs = sc.transform(inputs)\n",
    "X_test = []\n",
    "for i in range(60, 76):\n",
    "    X_test.append(inputs[i-60:i, 0])\n",
    "X_test = np.array(X_test)\n",
    "X_test = np.reshape(X_test, (X_test.shape[0], X_test.shape[1], 1))\n",
    "predicted_forex = regressor.predict(X_test)\n",
    "predicted_forex = sc.inverse_transform(predicted_forex)"
   ]
  },
  {
   "cell_type": "markdown",
   "metadata": {},
   "source": [
    "Use Matplotlib to visualize the result of the predicted forex rate and the real forex rate."
   ]
  },
  {
   "cell_type": "code",
   "execution_count": null,
   "metadata": {},
   "outputs": [],
   "source": [
    "plt.plot(test, color = 'black', label = 'real exchange rate')\n",
    "plt.plot(predicted_forex, color = 'green', label = 'Predicted exchange rate')\n",
    "plt.title('Eurusd exchange rate Prediction')\n",
    "plt.xlabel('Time')\n",
    "plt.ylabel('Eurusd exchange rate')\n",
    "plt.legend()\n",
    "plt.show()"
   ]
  }
 ],
 "metadata": {
  "kernelspec": {
   "display_name": "Python 3",
   "language": "python",
   "name": "python3"
  },
  "language_info": {
   "codemirror_mode": {
    "name": "ipython",
    "version": 3
   },
   "file_extension": ".py",
   "mimetype": "text/x-python",
   "name": "python",
   "nbconvert_exporter": "python",
   "pygments_lexer": "ipython3",
   "version": "3.7.3"
  }
 },
 "nbformat": 4,
 "nbformat_minor": 2
}
