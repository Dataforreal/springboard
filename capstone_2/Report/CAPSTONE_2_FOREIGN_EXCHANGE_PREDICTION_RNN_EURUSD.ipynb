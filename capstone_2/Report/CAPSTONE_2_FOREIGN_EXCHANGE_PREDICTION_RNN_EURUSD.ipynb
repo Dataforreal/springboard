{
 "cells": [
  {
   "cell_type": "markdown",
   "metadata": {},
   "source": [
    "#### Capstone 2 Arima Model"
   ]
  },
  {
   "cell_type": "code",
   "execution_count": 1,
   "metadata": {},
   "outputs": [
    {
     "name": "stderr",
     "output_type": "stream",
     "text": [
      "Using TensorFlow backend.\n"
     ]
    }
   ],
   "source": [
    "import numpy as np\n",
    "import matplotlib.pyplot as plt\n",
    "import pandas as pd\n",
    "pd.set_option('display.float_format', lambda x: '%.4f' % x)\n",
    "import seaborn as sns\n",
    "sns.set_context(\"paper\", font_scale=1.3)\n",
    "sns.set_style('white')\n",
    "import warnings\n",
    "warnings.filterwarnings('ignore')\n",
    "from time import time\n",
    "import matplotlib.ticker as tkr\n",
    "from scipy import stats\n",
    "from statsmodels.tsa.stattools import adfuller\n",
    "from sklearn import preprocessing\n",
    "from statsmodels.tsa.stattools import pacf\n",
    "%matplotlib inline\n",
    "import math\n",
    "import keras\n",
    "from keras.models import Sequential\n",
    "from keras.layers import Dense\n",
    "from keras.layers import LSTM\n",
    "from keras.layers import Dropout\n",
    "from keras.layers import *\n",
    "from sklearn.preprocessing import MinMaxScaler\n",
    "from sklearn.metrics import mean_squared_error\n",
    "from sklearn.metrics import mean_absolute_error\n",
    "from keras.callbacks import EarlyStopping"
   ]
  },
  {
   "cell_type": "code",
   "execution_count": 2,
   "metadata": {},
   "outputs": [],
   "source": [
    "#get data\n",
    "eurusd = pd.read_csv(r'eurusd.csv', index_col=0, parse_dates=True, skipinitialspace=True)"
   ]
  },
  {
   "cell_type": "code",
   "execution_count": 3,
   "metadata": {},
   "outputs": [
    {
     "data": {
      "text/html": [
       "<div>\n",
       "<style scoped>\n",
       "    .dataframe tbody tr th:only-of-type {\n",
       "        vertical-align: middle;\n",
       "    }\n",
       "\n",
       "    .dataframe tbody tr th {\n",
       "        vertical-align: top;\n",
       "    }\n",
       "\n",
       "    .dataframe thead th {\n",
       "        text-align: right;\n",
       "    }\n",
       "</style>\n",
       "<table border=\"1\" class=\"dataframe\">\n",
       "  <thead>\n",
       "    <tr style=\"text-align: right;\">\n",
       "      <th></th>\n",
       "      <th>Open</th>\n",
       "      <th>High</th>\n",
       "      <th>Low</th>\n",
       "      <th>close</th>\n",
       "      <th>Change</th>\n",
       "      <th>Volume</th>\n",
       "    </tr>\n",
       "    <tr>\n",
       "      <th>date</th>\n",
       "      <th></th>\n",
       "      <th></th>\n",
       "      <th></th>\n",
       "      <th></th>\n",
       "      <th></th>\n",
       "      <th></th>\n",
       "    </tr>\n",
       "  </thead>\n",
       "  <tbody>\n",
       "    <tr>\n",
       "      <td>2000-01-03</td>\n",
       "      <td>1.0085</td>\n",
       "      <td>1.0280</td>\n",
       "      <td>1.0055</td>\n",
       "      <td>1.0256</td>\n",
       "      <td>0.0168</td>\n",
       "      <td>0</td>\n",
       "    </tr>\n",
       "    <tr>\n",
       "      <td>2000-01-04</td>\n",
       "      <td>1.0255</td>\n",
       "      <td>1.0340</td>\n",
       "      <td>1.0217</td>\n",
       "      <td>1.0301</td>\n",
       "      <td>0.0045</td>\n",
       "      <td>0</td>\n",
       "    </tr>\n",
       "    <tr>\n",
       "      <td>2000-01-05</td>\n",
       "      <td>1.0304</td>\n",
       "      <td>1.0400</td>\n",
       "      <td>1.0289</td>\n",
       "      <td>1.0315</td>\n",
       "      <td>0.0014</td>\n",
       "      <td>0</td>\n",
       "    </tr>\n",
       "    <tr>\n",
       "      <td>2000-01-06</td>\n",
       "      <td>1.0320</td>\n",
       "      <td>1.0413</td>\n",
       "      <td>1.0283</td>\n",
       "      <td>1.0315</td>\n",
       "      <td>0.0000</td>\n",
       "      <td>0</td>\n",
       "    </tr>\n",
       "    <tr>\n",
       "      <td>2000-01-07</td>\n",
       "      <td>1.0317</td>\n",
       "      <td>1.0333</td>\n",
       "      <td>1.0263</td>\n",
       "      <td>1.0296</td>\n",
       "      <td>-0.0019</td>\n",
       "      <td>0</td>\n",
       "    </tr>\n",
       "  </tbody>\n",
       "</table>\n",
       "</div>"
      ],
      "text/plain": [
       "             Open   High    Low  close  Change  Volume\n",
       "date                                                  \n",
       "2000-01-03 1.0085 1.0280 1.0055 1.0256  0.0168       0\n",
       "2000-01-04 1.0255 1.0340 1.0217 1.0301  0.0045       0\n",
       "2000-01-05 1.0304 1.0400 1.0289 1.0315  0.0014       0\n",
       "2000-01-06 1.0320 1.0413 1.0283 1.0315  0.0000       0\n",
       "2000-01-07 1.0317 1.0333 1.0263 1.0296 -0.0019       0"
      ]
     },
     "execution_count": 3,
     "metadata": {},
     "output_type": "execute_result"
    }
   ],
   "source": [
    "eurusd.head()"
   ]
  },
  {
   "cell_type": "code",
   "execution_count": 4,
   "metadata": {},
   "outputs": [
    {
     "data": {
      "text/html": [
       "<div>\n",
       "<style scoped>\n",
       "    .dataframe tbody tr th:only-of-type {\n",
       "        vertical-align: middle;\n",
       "    }\n",
       "\n",
       "    .dataframe tbody tr th {\n",
       "        vertical-align: top;\n",
       "    }\n",
       "\n",
       "    .dataframe thead th {\n",
       "        text-align: right;\n",
       "    }\n",
       "</style>\n",
       "<table border=\"1\" class=\"dataframe\">\n",
       "  <thead>\n",
       "    <tr style=\"text-align: right;\">\n",
       "      <th></th>\n",
       "      <th>Open</th>\n",
       "      <th>High</th>\n",
       "      <th>Low</th>\n",
       "      <th>close</th>\n",
       "      <th>Change</th>\n",
       "      <th>Volume</th>\n",
       "    </tr>\n",
       "    <tr>\n",
       "      <th>date</th>\n",
       "      <th></th>\n",
       "      <th></th>\n",
       "      <th></th>\n",
       "      <th></th>\n",
       "      <th></th>\n",
       "      <th></th>\n",
       "    </tr>\n",
       "  </thead>\n",
       "  <tbody>\n",
       "    <tr>\n",
       "      <td>2019-12-20</td>\n",
       "      <td>1.1120</td>\n",
       "      <td>1.1125</td>\n",
       "      <td>1.1066</td>\n",
       "      <td>1.1075</td>\n",
       "      <td>-0.0045</td>\n",
       "      <td>119919</td>\n",
       "    </tr>\n",
       "    <tr>\n",
       "      <td>2019-12-23</td>\n",
       "      <td>1.1082</td>\n",
       "      <td>1.1095</td>\n",
       "      <td>1.1070</td>\n",
       "      <td>1.1088</td>\n",
       "      <td>0.0014</td>\n",
       "      <td>109071</td>\n",
       "    </tr>\n",
       "    <tr>\n",
       "      <td>2019-12-24</td>\n",
       "      <td>1.1088</td>\n",
       "      <td>1.1094</td>\n",
       "      <td>1.1069</td>\n",
       "      <td>1.1088</td>\n",
       "      <td>-0.0001</td>\n",
       "      <td>102337</td>\n",
       "    </tr>\n",
       "    <tr>\n",
       "      <td>2019-12-26</td>\n",
       "      <td>1.1093</td>\n",
       "      <td>1.1112</td>\n",
       "      <td>1.1082</td>\n",
       "      <td>1.1095</td>\n",
       "      <td>0.0008</td>\n",
       "      <td>59499</td>\n",
       "    </tr>\n",
       "    <tr>\n",
       "      <td>2019-12-27</td>\n",
       "      <td>1.1095</td>\n",
       "      <td>1.1188</td>\n",
       "      <td>1.1094</td>\n",
       "      <td>1.1173</td>\n",
       "      <td>0.0077</td>\n",
       "      <td>157620</td>\n",
       "    </tr>\n",
       "  </tbody>\n",
       "</table>\n",
       "</div>"
      ],
      "text/plain": [
       "             Open   High    Low  close  Change  Volume\n",
       "date                                                  \n",
       "2019-12-20 1.1120 1.1125 1.1066 1.1075 -0.0045  119919\n",
       "2019-12-23 1.1082 1.1095 1.1070 1.1088  0.0014  109071\n",
       "2019-12-24 1.1088 1.1094 1.1069 1.1088 -0.0001  102337\n",
       "2019-12-26 1.1093 1.1112 1.1082 1.1095  0.0008   59499\n",
       "2019-12-27 1.1095 1.1188 1.1094 1.1173  0.0077  157620"
      ]
     },
     "execution_count": 4,
     "metadata": {},
     "output_type": "execute_result"
    }
   ],
   "source": [
    "eurusd.tail()"
   ]
  },
  {
   "cell_type": "code",
   "execution_count": 5,
   "metadata": {},
   "outputs": [
    {
     "data": {
      "text/plain": [
       "DatetimeIndex(['2000-01-03', '2000-01-04', '2000-01-05', '2000-01-06',\n",
       "               '2000-01-07', '2000-01-10', '2000-01-11', '2000-01-12',\n",
       "               '2000-01-13', '2000-01-14',\n",
       "               ...\n",
       "               '2019-12-13', '2019-12-16', '2019-12-17', '2019-12-18',\n",
       "               '2019-12-19', '2019-12-20', '2019-12-23', '2019-12-24',\n",
       "               '2019-12-26', '2019-12-27'],\n",
       "              dtype='datetime64[ns]', name='date', length=5187, freq=None)"
      ]
     },
     "execution_count": 5,
     "metadata": {},
     "output_type": "execute_result"
    }
   ],
   "source": [
    "eurusd.index"
   ]
  },
  {
   "cell_type": "code",
   "execution_count": 6,
   "metadata": {},
   "outputs": [
    {
     "data": {
      "text/plain": [
       "Open      float64\n",
       "High      float64\n",
       "Low       float64\n",
       "close     float64\n",
       "Change    float64\n",
       "Volume      int64\n",
       "dtype: object"
      ]
     },
     "execution_count": 6,
     "metadata": {},
     "output_type": "execute_result"
    }
   ],
   "source": [
    "eurusd.dtypes"
   ]
  },
  {
   "cell_type": "code",
   "execution_count": 7,
   "metadata": {},
   "outputs": [],
   "source": [
    "eurusdclose = eurusd.close"
   ]
  },
  {
   "cell_type": "code",
   "execution_count": 8,
   "metadata": {},
   "outputs": [
    {
     "data": {
      "text/plain": [
       "count   5187.0000\n",
       "mean       1.2093\n",
       "std        0.1666\n",
       "min        0.8271\n",
       "25%        1.1105\n",
       "50%        1.2259\n",
       "75%        1.3314\n",
       "max        1.5990\n",
       "Name: close, dtype: float64"
      ]
     },
     "execution_count": 8,
     "metadata": {},
     "output_type": "execute_result"
    }
   ],
   "source": [
    "eurusdclose.describe() "
   ]
  },
  {
   "cell_type": "code",
   "execution_count": 9,
   "metadata": {},
   "outputs": [
    {
     "name": "stdout",
     "output_type": "stream",
     "text": [
      "Open      0\n",
      "High      0\n",
      "Low       0\n",
      "close     0\n",
      "Change    0\n",
      "Volume    0\n",
      "dtype: int64\n"
     ]
    }
   ],
   "source": [
    "# Check for missing data\n",
    "print(eurusd.isnull().sum())"
   ]
  },
  {
   "cell_type": "markdown",
   "metadata": {},
   "source": [
    "There are no missing values in the data set"
   ]
  },
  {
   "cell_type": "code",
   "execution_count": 10,
   "metadata": {},
   "outputs": [],
   "source": [
    "# Check for outliers"
   ]
  },
  {
   "cell_type": "code",
   "execution_count": 11,
   "metadata": {},
   "outputs": [
    {
     "data": {
      "text/plain": [
       "<matplotlib.axes._subplots.AxesSubplot at 0x1a0155886a0>"
      ]
     },
     "execution_count": 11,
     "metadata": {},
     "output_type": "execute_result"
    },
    {
     "data": {
      "image/png": "[encoded data removed]",
      "text/plain": [
       "<Figure size 432x288 with 1 Axes>"
      ]
     },
     "metadata": {
      "needs_background": "light"
     },
     "output_type": "display_data"
    }
   ],
   "source": [
    "eurusdclose.hist()"
   ]
  },
  {
   "cell_type": "markdown",
   "metadata": {},
   "source": [
    "#### Statistical Normality Test"
   ]
  },
  {
   "cell_type": "code",
   "execution_count": 12,
   "metadata": {},
   "outputs": [],
   "source": [
    "# Quantify whether data looks as though it was drawn from a Gaussian distribution, using the D’Agostino’s K² Test."
   ]
  },
  {
   "cell_type": "markdown",
   "metadata": {},
   "source": [
    "### p <= alpha: reject H0, not normal.\n",
    "\n",
    "### p > alpha: fail to reject H0, normal"
   ]
  },
  {
   "cell_type": "code",
   "execution_count": 13,
   "metadata": {},
   "outputs": [
    {
     "name": "stdout",
     "output_type": "stream",
     "text": [
      "Statistics=137.136, p=0.000\n",
      "Data does not look Gaussian (reject H0)\n"
     ]
    }
   ],
   "source": [
    "stat, p = stats.normaltest(eurusd.close)\n",
    "print('Statistics=%.3f, p=%.3f' % (stat, p))\n",
    "alpha = 0.05\n",
    "if p > alpha:\n",
    "    print('Data looks Gaussian (fail to reject H0)')\n",
    "else:\n",
    "    print('Data does not look Gaussian (reject H0)')"
   ]
  },
  {
   "cell_type": "code",
   "execution_count": 14,
   "metadata": {},
   "outputs": [
    {
     "name": "stdout",
     "output_type": "stream",
     "text": [
      "Kurtosis of normal distribution: -0.43668157335097213\n",
      "Skewness of normal distribution: -0.28722463936355497\n"
     ]
    },
    {
     "data": {
      "image/png": "[encoded data removed]",
      "text/plain": [
       "<Figure size 432x288 with 1 Axes>"
      ]
     },
     "metadata": {
      "needs_background": "light"
     },
     "output_type": "display_data"
    }
   ],
   "source": [
    "sns.distplot(eurusd.close);\n",
    "print( 'Kurtosis of normal distribution: {}'.format(stats.kurtosis(eurusd.close)))\n",
    "print( 'Skewness of normal distribution: {}'.format(stats.skew(eurusd.close)))"
   ]
  },
  {
   "cell_type": "markdown",
   "metadata": {},
   "source": [
    "##### The kurtosis of the distributiion above is less than zero and is light tailed. The distribution is fairly symmetrical"
   ]
  },
  {
   "cell_type": "code",
   "execution_count": 19,
   "metadata": {},
   "outputs": [
    {
     "data": {
      "text/html": [
       "<div>\n",
       "<style scoped>\n",
       "    .dataframe tbody tr th:only-of-type {\n",
       "        vertical-align: middle;\n",
       "    }\n",
       "\n",
       "    .dataframe tbody tr th {\n",
       "        vertical-align: top;\n",
       "    }\n",
       "\n",
       "    .dataframe thead th {\n",
       "        text-align: right;\n",
       "    }\n",
       "</style>\n",
       "<table border=\"1\" class=\"dataframe\">\n",
       "  <thead>\n",
       "    <tr style=\"text-align: right;\">\n",
       "      <th></th>\n",
       "      <th>count</th>\n",
       "      <th>mean</th>\n",
       "      <th>std</th>\n",
       "      <th>min</th>\n",
       "      <th>25%</th>\n",
       "      <th>50%</th>\n",
       "      <th>75%</th>\n",
       "      <th>max</th>\n",
       "    </tr>\n",
       "  </thead>\n",
       "  <tbody>\n",
       "    <tr>\n",
       "      <td>Open</td>\n",
       "      <td>5187.0000</td>\n",
       "      <td>1.2093</td>\n",
       "      <td>0.1666</td>\n",
       "      <td>0.8266</td>\n",
       "      <td>1.1103</td>\n",
       "      <td>1.2258</td>\n",
       "      <td>1.3315</td>\n",
       "      <td>1.5991</td>\n",
       "    </tr>\n",
       "    <tr>\n",
       "      <td>High</td>\n",
       "      <td>5187.0000</td>\n",
       "      <td>1.2147</td>\n",
       "      <td>0.1672</td>\n",
       "      <td>0.8322</td>\n",
       "      <td>1.1149</td>\n",
       "      <td>1.2313</td>\n",
       "      <td>1.3372</td>\n",
       "      <td>1.6038</td>\n",
       "    </tr>\n",
       "    <tr>\n",
       "      <td>Low</td>\n",
       "      <td>5187.0000</td>\n",
       "      <td>1.2039</td>\n",
       "      <td>0.1658</td>\n",
       "      <td>0.8230</td>\n",
       "      <td>1.1067</td>\n",
       "      <td>1.2196</td>\n",
       "      <td>1.3254</td>\n",
       "      <td>1.5866</td>\n",
       "    </tr>\n",
       "    <tr>\n",
       "      <td>close</td>\n",
       "      <td>5187.0000</td>\n",
       "      <td>1.2093</td>\n",
       "      <td>0.1666</td>\n",
       "      <td>0.8271</td>\n",
       "      <td>1.1105</td>\n",
       "      <td>1.2259</td>\n",
       "      <td>1.3314</td>\n",
       "      <td>1.5990</td>\n",
       "    </tr>\n",
       "    <tr>\n",
       "      <td>Change</td>\n",
       "      <td>5187.0000</td>\n",
       "      <td>0.0000</td>\n",
       "      <td>0.0074</td>\n",
       "      <td>-0.0348</td>\n",
       "      <td>-0.0041</td>\n",
       "      <td>0.0001</td>\n",
       "      <td>0.0041</td>\n",
       "      <td>0.0467</td>\n",
       "    </tr>\n",
       "    <tr>\n",
       "      <td>Volume</td>\n",
       "      <td>5187.0000</td>\n",
       "      <td>119833.2103</td>\n",
       "      <td>155557.6128</td>\n",
       "      <td>0.0000</td>\n",
       "      <td>0.0000</td>\n",
       "      <td>0.0000</td>\n",
       "      <td>229402.5000</td>\n",
       "      <td>763921.0000</td>\n",
       "    </tr>\n",
       "  </tbody>\n",
       "</table>\n",
       "</div>"
      ],
      "text/plain": [
       "           count        mean         std     min     25%    50%         75%  \\\n",
       "Open   5187.0000      1.2093      0.1666  0.8266  1.1103 1.2258      1.3315   \n",
       "High   5187.0000      1.2147      0.1672  0.8322  1.1149 1.2313      1.3372   \n",
       "Low    5187.0000      1.2039      0.1658  0.8230  1.1067 1.2196      1.3254   \n",
       "close  5187.0000      1.2093      0.1666  0.8271  1.1105 1.2259      1.3314   \n",
       "Change 5187.0000      0.0000      0.0074 -0.0348 -0.0041 0.0001      0.0041   \n",
       "Volume 5187.0000 119833.2103 155557.6128  0.0000  0.0000 0.0000 229402.5000   \n",
       "\n",
       "               max  \n",
       "Open        1.5991  \n",
       "High        1.6038  \n",
       "Low         1.5866  \n",
       "close       1.5990  \n",
       "Change      0.0467  \n",
       "Volume 763921.0000  "
      ]
     },
     "execution_count": 19,
     "metadata": {},
     "output_type": "execute_result"
    },
    {
     "data": {
      "image/png": "[encoded data removed]",
      "text/plain": [
       "<Figure size 1008x432 with 2 Axes>"
      ]
     },
     "metadata": {
      "needs_background": "light"
     },
     "output_type": "display_data"
    }
   ],
   "source": [
    "plt.figure(figsize=(14,6))\n",
    "plt.subplot(1,2,1)\n",
    "eurusd['close'].hist(bins=50)\n",
    "plt.title('eurusd exchange rate Distribution')\n",
    "plt.subplot(1,2,2)\n",
    "stats.probplot(eurusd['close'], plot=plt);\n",
    "eurusd.describe().T"
   ]
  },
  {
   "cell_type": "markdown",
   "metadata": {},
   "source": [
    "#### Stationarity\n",
    "I used the Dickey–Fuller test to test the null hypothesis that a unit root is present in an autoregressive model. \n",
    "Stationary series has constant mean and variance over time. \n",
    "Rolling average and the rolling standard deviation of time series do not change over time."
   ]
  },
  {
   "cell_type": "markdown",
   "metadata": {},
   "source": [
    "Dickey-Fuller test\n",
    "Null Hypothesis (H0): Time series has a unit root, meaning it is non-stationary.\n",
    "Alternate Hypothesis (H1): Suggests the time series does not have a unit root, meaning it is stationary. "
   ]
  },
  {
   "cell_type": "markdown",
   "metadata": {},
   "source": [
    "#### p-value > 0.05: Accept the null hypothesis (H0), the data has a unit root and is non-stationary.\n",
    "#### p-value <= 0.05: Reject the null hypothesis (H0), the data does not have a unit root and is stationary."
   ]
  },
  {
   "cell_type": "code",
   "execution_count": 26,
   "metadata": {},
   "outputs": [
    {
     "data": {
      "image/png": "[encoded data removed]",
      "text/plain": [
       "<Figure size 1008x360 with 1 Axes>"
      ]
     },
     "metadata": {
      "needs_background": "light"
     },
     "output_type": "display_data"
    },
    {
     "name": "stdout",
     "output_type": "stream",
     "text": [
      "<Results of Dickey-Fuller Test>\n",
      "Test Statistic                  -1.7338\n",
      "p-value                          0.4138\n",
      "#Lags Used                       0.0000\n",
      "Number of Observations Used   5186.0000\n",
      "Critical Value (1%)             -3.4316\n",
      "Critical Value (5%)             -2.8621\n",
      "Critical Value (10%)            -2.5671\n",
      "dtype: float64\n"
     ]
    }
   ],
   "source": [
    "df2=eurusd.resample('D', how=np.mean)\n",
    "def test_stationarity(timeseries):\n",
    "\n",
    "    rolmean = timeseries.rolling(window=30).mean()\n",
    "\n",
    "    rolstd = timeseries.rolling(window=30).std()\n",
    "\n",
    "    \n",
    "\n",
    "    plt.figure(figsize=(14,5))\n",
    "\n",
    "    sns.despine(left=True)\n",
    "\n",
    "    orig = plt.plot(timeseries, color='blue',label='Original')\n",
    "\n",
    "    mean = plt.plot(rolmean, color='red', label='Rolling Mean')\n",
    "\n",
    "    std = plt.plot(rolstd, color='black', label = 'Rolling Std')\n",
    "\n",
    "\n",
    "\n",
    "    plt.legend(loc='best'); plt.title('Rolling Mean & Standard Deviation')\n",
    "\n",
    "    plt.show()\n",
    "\n",
    "    \n",
    "\n",
    "    print ('<Results of Dickey-Fuller Test>')\n",
    "\n",
    "    dftest = adfuller(timeseries, autolag='AIC')\n",
    "\n",
    "    dfoutput = pd.Series(dftest[0:4],\n",
    "\n",
    "                         index=['Test Statistic','p-value','#Lags Used','Number of Observations Used'])\n",
    "\n",
    "    for key,value in dftest[4].items():\n",
    "\n",
    "        dfoutput['Critical Value (%s)'%key] = value\n",
    "\n",
    "    print(dfoutput)\n",
    "\n",
    "test_stationarity(df2.close.dropna())"
   ]
  },
  {
   "cell_type": "markdown",
   "metadata": {},
   "source": [
    "From the above results, it is clear that the Standard deviation is stationary, while the mean is not. We will reject the null hypothesis H0, the data does not have a unit root and is stationary."
   ]
  },
  {
   "cell_type": "code",
   "execution_count": null,
   "metadata": {},
   "outputs": [],
   "source": []
  }
 ],
 "metadata": {
  "kernelspec": {
   "display_name": "Python 3",
   "language": "python",
   "name": "python3"
  },
  "language_info": {
   "codemirror_mode": {
    "name": "ipython",
    "version": 3
   },
   "file_extension": ".py",
   "mimetype": "text/x-python",
   "name": "python",
   "nbconvert_exporter": "python",
   "pygments_lexer": "ipython3",
   "version": "3.7.3"
  }
 },
 "nbformat": 4,
 "nbformat_minor": 2
}
