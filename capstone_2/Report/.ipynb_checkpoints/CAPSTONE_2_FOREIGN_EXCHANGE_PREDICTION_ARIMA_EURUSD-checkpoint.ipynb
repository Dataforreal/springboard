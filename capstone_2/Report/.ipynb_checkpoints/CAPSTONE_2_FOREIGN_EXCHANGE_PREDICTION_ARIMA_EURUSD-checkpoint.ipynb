{
 "cells": [
  {
   "cell_type": "markdown",
   "metadata": {},
   "source": [
    "#### Capstone 2 Arima Model"
   ]
  },
  {
   "cell_type": "code",
   "execution_count": 1,
   "metadata": {},
   "outputs": [],
   "source": [
    "import warnings\n",
    "import itertools\n",
    "import pandas as pd\n",
    "import numpy as np\n",
    "import statsmodels.api as sm\n",
    "import matplotlib.pyplot as plt\n",
    "plt.style.use('fivethirtyeight')"
   ]
  },
  {
   "cell_type": "code",
   "execution_count": 2,
   "metadata": {},
   "outputs": [],
   "source": [
    "#get data\n",
    "eurusd = pd.read_csv(r'eurusd.csv', index_col=0, parse_dates=True, skipinitialspace=True)"
   ]
  },
  {
   "cell_type": "code",
   "execution_count": 3,
   "metadata": {},
   "outputs": [
    {
     "data": {
      "text/html": [
       "<div>\n",
       "<style scoped>\n",
       "    .dataframe tbody tr th:only-of-type {\n",
       "        vertical-align: middle;\n",
       "    }\n",
       "\n",
       "    .dataframe tbody tr th {\n",
       "        vertical-align: top;\n",
       "    }\n",
       "\n",
       "    .dataframe thead th {\n",
       "        text-align: right;\n",
       "    }\n",
       "</style>\n",
       "<table border=\"1\" class=\"dataframe\">\n",
       "  <thead>\n",
       "    <tr style=\"text-align: right;\">\n",
       "      <th></th>\n",
       "      <th>Open</th>\n",
       "      <th>High</th>\n",
       "      <th>Low</th>\n",
       "      <th>close</th>\n",
       "      <th>Change</th>\n",
       "      <th>Volume</th>\n",
       "    </tr>\n",
       "    <tr>\n",
       "      <th>date</th>\n",
       "      <th></th>\n",
       "      <th></th>\n",
       "      <th></th>\n",
       "      <th></th>\n",
       "      <th></th>\n",
       "      <th></th>\n",
       "    </tr>\n",
       "  </thead>\n",
       "  <tbody>\n",
       "    <tr>\n",
       "      <td>2000-01-03</td>\n",
       "      <td>1.0085</td>\n",
       "      <td>1.0280</td>\n",
       "      <td>1.0055</td>\n",
       "      <td>1.0256</td>\n",
       "      <td>0.0168</td>\n",
       "      <td>0</td>\n",
       "    </tr>\n",
       "    <tr>\n",
       "      <td>2000-01-04</td>\n",
       "      <td>1.0255</td>\n",
       "      <td>1.0340</td>\n",
       "      <td>1.0217</td>\n",
       "      <td>1.0301</td>\n",
       "      <td>0.0045</td>\n",
       "      <td>0</td>\n",
       "    </tr>\n",
       "    <tr>\n",
       "      <td>2000-01-05</td>\n",
       "      <td>1.0304</td>\n",
       "      <td>1.0400</td>\n",
       "      <td>1.0289</td>\n",
       "      <td>1.0315</td>\n",
       "      <td>0.0014</td>\n",
       "      <td>0</td>\n",
       "    </tr>\n",
       "    <tr>\n",
       "      <td>2000-01-06</td>\n",
       "      <td>1.0320</td>\n",
       "      <td>1.0413</td>\n",
       "      <td>1.0283</td>\n",
       "      <td>1.0315</td>\n",
       "      <td>0.0000</td>\n",
       "      <td>0</td>\n",
       "    </tr>\n",
       "    <tr>\n",
       "      <td>2000-01-07</td>\n",
       "      <td>1.0317</td>\n",
       "      <td>1.0333</td>\n",
       "      <td>1.0263</td>\n",
       "      <td>1.0296</td>\n",
       "      <td>-0.0019</td>\n",
       "      <td>0</td>\n",
       "    </tr>\n",
       "  </tbody>\n",
       "</table>\n",
       "</div>"
      ],
      "text/plain": [
       "              Open    High     Low   close  Change  Volume\n",
       "date                                                      \n",
       "2000-01-03  1.0085  1.0280  1.0055  1.0256  0.0168       0\n",
       "2000-01-04  1.0255  1.0340  1.0217  1.0301  0.0045       0\n",
       "2000-01-05  1.0304  1.0400  1.0289  1.0315  0.0014       0\n",
       "2000-01-06  1.0320  1.0413  1.0283  1.0315  0.0000       0\n",
       "2000-01-07  1.0317  1.0333  1.0263  1.0296 -0.0019       0"
      ]
     },
     "execution_count": 3,
     "metadata": {},
     "output_type": "execute_result"
    }
   ],
   "source": [
    "eurusd.head()"
   ]
  },
  {
   "cell_type": "code",
   "execution_count": 4,
   "metadata": {},
   "outputs": [
    {
     "data": {
      "text/html": [
       "<div>\n",
       "<style scoped>\n",
       "    .dataframe tbody tr th:only-of-type {\n",
       "        vertical-align: middle;\n",
       "    }\n",
       "\n",
       "    .dataframe tbody tr th {\n",
       "        vertical-align: top;\n",
       "    }\n",
       "\n",
       "    .dataframe thead th {\n",
       "        text-align: right;\n",
       "    }\n",
       "</style>\n",
       "<table border=\"1\" class=\"dataframe\">\n",
       "  <thead>\n",
       "    <tr style=\"text-align: right;\">\n",
       "      <th></th>\n",
       "      <th>Open</th>\n",
       "      <th>High</th>\n",
       "      <th>Low</th>\n",
       "      <th>close</th>\n",
       "      <th>Change</th>\n",
       "      <th>Volume</th>\n",
       "    </tr>\n",
       "    <tr>\n",
       "      <th>date</th>\n",
       "      <th></th>\n",
       "      <th></th>\n",
       "      <th></th>\n",
       "      <th></th>\n",
       "      <th></th>\n",
       "      <th></th>\n",
       "    </tr>\n",
       "  </thead>\n",
       "  <tbody>\n",
       "    <tr>\n",
       "      <td>2019-12-20</td>\n",
       "      <td>1.11197</td>\n",
       "      <td>1.11246</td>\n",
       "      <td>1.10661</td>\n",
       "      <td>1.10748</td>\n",
       "      <td>-0.00448</td>\n",
       "      <td>119919</td>\n",
       "    </tr>\n",
       "    <tr>\n",
       "      <td>2019-12-23</td>\n",
       "      <td>1.10822</td>\n",
       "      <td>1.10954</td>\n",
       "      <td>1.10697</td>\n",
       "      <td>1.10884</td>\n",
       "      <td>0.00136</td>\n",
       "      <td>109071</td>\n",
       "    </tr>\n",
       "    <tr>\n",
       "      <td>2019-12-24</td>\n",
       "      <td>1.10882</td>\n",
       "      <td>1.10937</td>\n",
       "      <td>1.10693</td>\n",
       "      <td>1.10877</td>\n",
       "      <td>-0.00007</td>\n",
       "      <td>102337</td>\n",
       "    </tr>\n",
       "    <tr>\n",
       "      <td>2019-12-26</td>\n",
       "      <td>1.10925</td>\n",
       "      <td>1.11115</td>\n",
       "      <td>1.10819</td>\n",
       "      <td>1.10952</td>\n",
       "      <td>0.00075</td>\n",
       "      <td>59499</td>\n",
       "    </tr>\n",
       "    <tr>\n",
       "      <td>2019-12-27</td>\n",
       "      <td>1.10953</td>\n",
       "      <td>1.11878</td>\n",
       "      <td>1.10939</td>\n",
       "      <td>1.11726</td>\n",
       "      <td>0.00774</td>\n",
       "      <td>157620</td>\n",
       "    </tr>\n",
       "  </tbody>\n",
       "</table>\n",
       "</div>"
      ],
      "text/plain": [
       "               Open     High      Low    close   Change  Volume\n",
       "date                                                           \n",
       "2019-12-20  1.11197  1.11246  1.10661  1.10748 -0.00448  119919\n",
       "2019-12-23  1.10822  1.10954  1.10697  1.10884  0.00136  109071\n",
       "2019-12-24  1.10882  1.10937  1.10693  1.10877 -0.00007  102337\n",
       "2019-12-26  1.10925  1.11115  1.10819  1.10952  0.00075   59499\n",
       "2019-12-27  1.10953  1.11878  1.10939  1.11726  0.00774  157620"
      ]
     },
     "execution_count": 4,
     "metadata": {},
     "output_type": "execute_result"
    }
   ],
   "source": [
    "eurusd.tail()"
   ]
  },
  {
   "cell_type": "code",
   "execution_count": 5,
   "metadata": {},
   "outputs": [
    {
     "data": {
      "text/plain": [
       "DatetimeIndex(['2000-01-03', '2000-01-04', '2000-01-05', '2000-01-06',\n",
       "               '2000-01-07', '2000-01-10', '2000-01-11', '2000-01-12',\n",
       "               '2000-01-13', '2000-01-14',\n",
       "               ...\n",
       "               '2019-12-13', '2019-12-16', '2019-12-17', '2019-12-18',\n",
       "               '2019-12-19', '2019-12-20', '2019-12-23', '2019-12-24',\n",
       "               '2019-12-26', '2019-12-27'],\n",
       "              dtype='datetime64[ns]', name='date', length=5187, freq=None)"
      ]
     },
     "execution_count": 5,
     "metadata": {},
     "output_type": "execute_result"
    }
   ],
   "source": [
    "eurusd.index"
   ]
  },
  {
   "cell_type": "code",
   "execution_count": 6,
   "metadata": {},
   "outputs": [
    {
     "data": {
      "text/plain": [
       "Open      float64\n",
       "High      float64\n",
       "Low       float64\n",
       "close     float64\n",
       "Change    float64\n",
       "Volume      int64\n",
       "dtype: object"
      ]
     },
     "execution_count": 6,
     "metadata": {},
     "output_type": "execute_result"
    }
   ],
   "source": [
    "eurusd.dtypes"
   ]
  },
  {
   "cell_type": "code",
   "execution_count": 7,
   "metadata": {},
   "outputs": [
    {
     "data": {
      "text/html": [
       "<div>\n",
       "<style scoped>\n",
       "    .dataframe tbody tr th:only-of-type {\n",
       "        vertical-align: middle;\n",
       "    }\n",
       "\n",
       "    .dataframe tbody tr th {\n",
       "        vertical-align: top;\n",
       "    }\n",
       "\n",
       "    .dataframe thead th {\n",
       "        text-align: right;\n",
       "    }\n",
       "</style>\n",
       "<table border=\"1\" class=\"dataframe\">\n",
       "  <thead>\n",
       "    <tr style=\"text-align: right;\">\n",
       "      <th></th>\n",
       "      <th>Open</th>\n",
       "      <th>High</th>\n",
       "      <th>Low</th>\n",
       "      <th>close</th>\n",
       "      <th>Change</th>\n",
       "      <th>Volume</th>\n",
       "    </tr>\n",
       "  </thead>\n",
       "  <tbody>\n",
       "    <tr>\n",
       "      <td>count</td>\n",
       "      <td>5187.000000</td>\n",
       "      <td>5187.000000</td>\n",
       "      <td>5187.000000</td>\n",
       "      <td>5187.000000</td>\n",
       "      <td>5187.000000</td>\n",
       "      <td>5187.000000</td>\n",
       "    </tr>\n",
       "    <tr>\n",
       "      <td>mean</td>\n",
       "      <td>1.209273</td>\n",
       "      <td>1.214695</td>\n",
       "      <td>1.203875</td>\n",
       "      <td>1.209322</td>\n",
       "      <td>0.000021</td>\n",
       "      <td>119833.210334</td>\n",
       "    </tr>\n",
       "    <tr>\n",
       "      <td>std</td>\n",
       "      <td>0.166635</td>\n",
       "      <td>0.167230</td>\n",
       "      <td>0.165837</td>\n",
       "      <td>0.166613</td>\n",
       "      <td>0.007363</td>\n",
       "      <td>155557.612821</td>\n",
       "    </tr>\n",
       "    <tr>\n",
       "      <td>min</td>\n",
       "      <td>0.826600</td>\n",
       "      <td>0.832200</td>\n",
       "      <td>0.823000</td>\n",
       "      <td>0.827100</td>\n",
       "      <td>-0.034800</td>\n",
       "      <td>0.000000</td>\n",
       "    </tr>\n",
       "    <tr>\n",
       "      <td>25%</td>\n",
       "      <td>1.110315</td>\n",
       "      <td>1.114890</td>\n",
       "      <td>1.106650</td>\n",
       "      <td>1.110505</td>\n",
       "      <td>-0.004085</td>\n",
       "      <td>0.000000</td>\n",
       "    </tr>\n",
       "    <tr>\n",
       "      <td>50%</td>\n",
       "      <td>1.225800</td>\n",
       "      <td>1.231270</td>\n",
       "      <td>1.219600</td>\n",
       "      <td>1.225900</td>\n",
       "      <td>0.000100</td>\n",
       "      <td>0.000000</td>\n",
       "    </tr>\n",
       "    <tr>\n",
       "      <td>75%</td>\n",
       "      <td>1.331520</td>\n",
       "      <td>1.337240</td>\n",
       "      <td>1.325400</td>\n",
       "      <td>1.331400</td>\n",
       "      <td>0.004065</td>\n",
       "      <td>229402.500000</td>\n",
       "    </tr>\n",
       "    <tr>\n",
       "      <td>max</td>\n",
       "      <td>1.599100</td>\n",
       "      <td>1.603800</td>\n",
       "      <td>1.586600</td>\n",
       "      <td>1.599000</td>\n",
       "      <td>0.046700</td>\n",
       "      <td>763921.000000</td>\n",
       "    </tr>\n",
       "  </tbody>\n",
       "</table>\n",
       "</div>"
      ],
      "text/plain": [
       "              Open         High          Low        close       Change  \\\n",
       "count  5187.000000  5187.000000  5187.000000  5187.000000  5187.000000   \n",
       "mean      1.209273     1.214695     1.203875     1.209322     0.000021   \n",
       "std       0.166635     0.167230     0.165837     0.166613     0.007363   \n",
       "min       0.826600     0.832200     0.823000     0.827100    -0.034800   \n",
       "25%       1.110315     1.114890     1.106650     1.110505    -0.004085   \n",
       "50%       1.225800     1.231270     1.219600     1.225900     0.000100   \n",
       "75%       1.331520     1.337240     1.325400     1.331400     0.004065   \n",
       "max       1.599100     1.603800     1.586600     1.599000     0.046700   \n",
       "\n",
       "              Volume  \n",
       "count    5187.000000  \n",
       "mean   119833.210334  \n",
       "std    155557.612821  \n",
       "min         0.000000  \n",
       "25%         0.000000  \n",
       "50%         0.000000  \n",
       "75%    229402.500000  \n",
       "max    763921.000000  "
      ]
     },
     "execution_count": 7,
     "metadata": {},
     "output_type": "execute_result"
    }
   ],
   "source": [
    "eurusd.describe() "
   ]
  },
  {
   "cell_type": "code",
   "execution_count": 8,
   "metadata": {},
   "outputs": [
    {
     "name": "stdout",
     "output_type": "stream",
     "text": [
      "Open      0\n",
      "High      0\n",
      "Low       0\n",
      "close     0\n",
      "Change    0\n",
      "Volume    0\n",
      "dtype: int64\n"
     ]
    }
   ],
   "source": [
    "# Check for missing data\n",
    "print(eurusd.isnull().sum())"
   ]
  },
  {
   "cell_type": "markdown",
   "metadata": {},
   "source": [
    "There are no missing values in the data set"
   ]
  },
  {
   "cell_type": "code",
   "execution_count": 9,
   "metadata": {},
   "outputs": [
    {
     "data": {
      "text/plain": [
       "<matplotlib.axes._subplots.AxesSubplot at 0x195ef366630>"
      ]
     },
     "execution_count": 9,
     "metadata": {},
     "output_type": "execute_result"
    },
    {
     "data": {
      "image/png": "[encoded data removed]",
      "text/plain": [
       "<Figure size 432x288 with 1 Axes>"
      ]
     },
     "metadata": {
      "needs_background": "light"
     },
     "output_type": "display_data"
    }
   ],
   "source": [
    "eurusd.close.hist()"
   ]
  },
  {
   "cell_type": "code",
   "execution_count": null,
   "metadata": {},
   "outputs": [],
   "source": [
    "eurusd.close.plot(ylim=[0,1.75],figsize = (12,5)).autoscale(axis='x', tight=True)\n",
    "plt.title('Exchange Rate Chart', size=20)\n",
    "plt.xlabel('Years', size=17)\n",
    "plt.ylabel('Exchange Rate', size=17)\n",
    "plt.autoscale(enable=True, axis='x', tight=True)\n",
    "plt.show()"
   ]
  },
  {
   "cell_type": "code",
   "execution_count": null,
   "metadata": {},
   "outputs": [],
   "source": [
    "# Define the p, d and q parameters to take any value between 0 and 2\n",
    "p = d = q = range(0, 2)\n",
    "\n",
    "# Generate all different combinations of p, q and q triplets\n",
    "pdq = list(itertools.product(p, d, q))\n",
    "\n",
    "# Generate all different combinations of seasonal p, q and q triplets\n",
    "seasonal_pdq = [(x[0], x[1], x[2], 12) for x in list(itertools.product(p, d, q))]\n",
    "\n",
    "print('Examples of parameter combinations for Seasonal ARIMA...')\n",
    "print('SARIMAX: {} x {}'.format(pdq[1], seasonal_pdq[1]))\n",
    "print('SARIMAX: {} x {}'.format(pdq[1], seasonal_pdq[2]))\n",
    "print('SARIMAX: {} x {}'.format(pdq[2], seasonal_pdq[3]))\n",
    "print('SARIMAX: {} x {}'.format(pdq[2], seasonal_pdq[4]))"
   ]
  },
  {
   "cell_type": "code",
   "execution_count": null,
   "metadata": {},
   "outputs": [],
   "source": [
    "warnings.filterwarnings(\"ignore\") # specify to ignore warning messages\n",
    "\n",
    "for param in pdq:\n",
    "    for param_seasonal in seasonal_pdq:\n",
    "        try:\n",
    "            mod = sm.tsa.statespace.SARIMAX(y,\n",
    "                                            order=param,\n",
    "                                            seasonal_order=param_seasonal,\n",
    "                                            enforce_stationarity=False,\n",
    "                                            enforce_invertibility=False)\n",
    "\n",
    "            results = mod.fit()\n",
    "\n",
    "            print('ARIMA{}x{}12 - AIC:{}'.format(param, param_seasonal, results.aic))\n",
    "        except:\n",
    "            continue"
   ]
  },
  {
   "cell_type": "code",
   "execution_count": null,
   "metadata": {},
   "outputs": [],
   "source": [
    "mod = sm.tsa.statespace.SARIMAX(eurusd.close,\n",
    "                                order=(1, 0, 0),\n",
    "                                seasonal_order=(1, 1, 1, 12),\n",
    "                                enforce_stationarity=False,\n",
    "                                enforce_invertibility=False)\n",
    "\n",
    "results = mod.fit()\n",
    "\n",
    "print(results.summary().tables[1])"
   ]
  },
  {
   "cell_type": "code",
   "execution_count": null,
   "metadata": {},
   "outputs": [],
   "source": [
    "results.plot_diagnostics(figsize=(15, 12))\n",
    "plt.show()"
   ]
  },
  {
   "cell_type": "markdown",
   "metadata": {},
   "source": [
    "Our primary concern is to ensure that the residuals of our model are uncorrelated and normally distributed with zero-mean. If the seasonal ARIMA model does not satisfy these properties, it is a good indication that it can be further improved.\n",
    "\n",
    "In this case, our model diagnostics suggests that the model residuals are normally distributed based on the following:\n",
    "\n",
    "In the top right plot, we see that the red KDE line follows closely with the N(0,1) line (where N(0,1)) is the standard notation for a normal distribution with mean 0 and standard deviation of 1). This is a good indication that the residuals are normally distributed.\n",
    "The qq-plot on the bottom left shows that the ordered distribution of residuals (blue dots) follows the linear trend of the samples taken from a standard normal distribution with N(0, 1). Again, this is a strong indication that the residuals are normally distributed.\n",
    "The residuals over time (top left plot) don’t display any obvious seasonality and appear to be white noise. This is confirmed by the autocorrelation (i.e. correlogram) plot on the bottom right, which shows that the time series residuals have low correlation with lagged versions of itself.\n",
    "\n",
    "Those observations lead us to conclude that our model produces a satisfactory fit that could help us understand our time series data and forecast future values."
   ]
  },
  {
   "cell_type": "code",
   "execution_count": null,
   "metadata": {},
   "outputs": [],
   "source": [
    "pred = results.get_prediction(start=pd.to_datetime('2014-01-01'), dynamic=False)\n",
    "pred_ci = pred.conf_int()"
   ]
  },
  {
   "cell_type": "code",
   "execution_count": null,
   "metadata": {},
   "outputs": [],
   "source": [
    "ax = eurusd.close['2000':].plot(label='observed', figsize = (15,6))\n",
    "pred.predicted_mean.plot(ax=ax, label='One-step ahead Forecast', alpha=.7)\n",
    "\n",
    "ax.fill_between(pred_ci.index,\n",
    "                pred_ci.iloc[:, 0],\n",
    "                pred_ci.iloc[:, 1], color='k', alpha=.2)\n",
    "\n",
    "ax.set_xlabel('Date')\n",
    "ax.set_ylabel('Exchange rate')\n",
    "plt.legend()\n",
    "\n",
    "plt.show()"
   ]
  },
  {
   "cell_type": "code",
   "execution_count": null,
   "metadata": {},
   "outputs": [],
   "source": [
    "eurusd_forecasted = pred.predicted_mean\n",
    "eurusd_truth = eurusd.close['2014-01-01':]\n",
    "\n",
    "# Compute the mean square error\n",
    "mse = ((eurusd_forecasted - eurusd_truth) ** 2).mean()\n",
    "print('The Mean Squared Error of our forecasts is {}'.format(round(mse, 2)))"
   ]
  },
  {
   "cell_type": "code",
   "execution_count": null,
   "metadata": {},
   "outputs": [],
   "source": [
    "pred_dynamic = results.get_prediction(start=pd.to_datetime('2014-01-01'), dynamic=True, full_results=True)\n",
    "pred_dynamic_ci = pred_dynamic.conf_int()"
   ]
  },
  {
   "cell_type": "code",
   "execution_count": null,
   "metadata": {},
   "outputs": [],
   "source": [
    "ax = eurusd.close['2000':].plot(label='observed', figsize=(15, 10))\n",
    "pred_dynamic.predicted_mean.plot(label='Dynamic Forecast', ax=ax)\n",
    "\n",
    "ax.fill_between(pred_dynamic_ci.index,\n",
    "                pred_dynamic_ci.iloc[:, 0],\n",
    "                pred_dynamic_ci.iloc[:, 1], color='k', alpha=.25)\n",
    "\n",
    "ax.fill_betweenx(ax.get_ylim(), pd.to_datetime('2018-01-01'), eurusd.close.index[-1],\n",
    "                 alpha=.1, zorder=-1)\n",
    "\n",
    "ax.set_xlabel('Date')\n",
    "ax.set_ylabel('CO2 Levels')\n",
    "\n",
    "plt.legend()\n",
    "plt.show()"
   ]
  },
  {
   "cell_type": "code",
   "execution_count": null,
   "metadata": {},
   "outputs": [],
   "source": []
  },
  {
   "cell_type": "code",
   "execution_count": null,
   "metadata": {},
   "outputs": [],
   "source": []
  },
  {
   "cell_type": "code",
   "execution_count": null,
   "metadata": {},
   "outputs": [],
   "source": []
  },
  {
   "cell_type": "code",
   "execution_count": null,
   "metadata": {},
   "outputs": [],
   "source": []
  },
  {
   "cell_type": "code",
   "execution_count": null,
   "metadata": {},
   "outputs": [],
   "source": []
  },
  {
   "cell_type": "code",
   "execution_count": null,
   "metadata": {},
   "outputs": [],
   "source": []
  },
  {
   "cell_type": "code",
   "execution_count": null,
   "metadata": {},
   "outputs": [],
   "source": []
  },
  {
   "cell_type": "code",
   "execution_count": null,
   "metadata": {},
   "outputs": [],
   "source": [
    "# Carry out Decomposition\n",
    "\n",
    "seasonal = seasonal_decompose(eurusd.close, model='multiplicative', freq=52)\n",
    "seasonal.plot()\n",
    "mpl.rcParams['figure.figsize'] = 12,6"
   ]
  },
  {
   "cell_type": "markdown",
   "metadata": {},
   "source": [
    "STATIONARITY"
   ]
  },
  {
   "cell_type": "code",
   "execution_count": null,
   "metadata": {},
   "outputs": [],
   "source": [
    "eurusd['12-month-SMA(close)'] = eurusd['close'].rolling(window=12).mean()\n",
    "eurusd['12-month-std(close)'] = eurusd['close'].rolling(window=12).std()\n",
    "eurusd[['close', '12-month-SMA(close)', '12-month-std(close)']].plot()\n",
    "plt.ylim(0, 2)\n",
    "plt.xlabel('Years', size=17)\n",
    "plt.ylabel('Exchange Rate', size=17)\n",
    "plt.autoscale(enable=True, axis='x', tight=True)#plt.axis('tight'\n",
    "plt.tick_params(labelsize=14)\n",
    "mpl.rcParams['figure.figsize'] = 12,6"
   ]
  },
  {
   "cell_type": "markdown",
   "metadata": {},
   "source": [
    "From the chart above, it is clear that the Standard deviation is stationary, while the mean is not"
   ]
  },
  {
   "cell_type": "code",
   "execution_count": null,
   "metadata": {},
   "outputs": [],
   "source": []
  },
  {
   "cell_type": "code",
   "execution_count": null,
   "metadata": {},
   "outputs": [],
   "source": [
    "#eurusd['shift'] =  eurusd['close'].shift(1)\n",
    "#eurusd.head()"
   ]
  },
  {
   "cell_type": "code",
   "execution_count": null,
   "metadata": {},
   "outputs": [],
   "source": [
    "#eurusd['d1close'] = eurusd['close']  -  eurusd['close'].shift(1)\n",
    "#eurusd[['d1close', 'close']].head()"
   ]
  },
  {
   "cell_type": "code",
   "execution_count": null,
   "metadata": {},
   "outputs": [],
   "source": [
    "#eurusd['d1close'].plot(title='First order difference').autoscale(axis='x', tight='True')"
   ]
  },
  {
   "cell_type": "code",
   "execution_count": null,
   "metadata": {},
   "outputs": [],
   "source": [
    "eurusd['d1close'] = eurusd['close'].diff()\n",
    "eurusd['d1close'].plot(title='First order difference').autoscale(axis='x', tight='True')"
   ]
  },
  {
   "cell_type": "code",
   "execution_count": null,
   "metadata": {},
   "outputs": [],
   "source": [
    "eurusd['12-month-SMA(close)'] = eurusd['d1close'].rolling(window=12).mean()\n",
    "eurusd['12-month-std(close)'] = eurusd['d1close'].rolling(window=12).std()\n",
    "eurusd[['d1close', '12-month-SMA(close)', '12-month-std(close)']].plot()\n",
    "plt.xlabel('Years', size=17)\n",
    "plt.ylabel('Exchange Rate', size=17)\n",
    "plt.autoscale(enable=True, axis='x', tight=True)#plt.axis('tight'\n",
    "plt.tick_params(labelsize=14)\n",
    "mpl.rcParams['figure.figsize'] = 12,6"
   ]
  },
  {
   "cell_type": "code",
   "execution_count": null,
   "metadata": {},
   "outputs": [],
   "source": [
    "print('Augmented Dickey-Fuller Test on EURUSD Exchange Rate Data')\n",
    "dftest = adfuller(eurusd['close'], autolag='AIC')\n",
    "dftest"
   ]
  },
  {
   "cell_type": "markdown",
   "metadata": {},
   "source": [
    "Hypothesis Testing:\n",
    "    \n",
    "The Null hypothesis of this project states that the time series data of eurysd is non-stationary. Using the Dickey fuller test, I will determine below whether or not this is true."
   ]
  },
  {
   "cell_type": "code",
   "execution_count": null,
   "metadata": {},
   "outputs": [],
   "source": [
    "stepwise_fit = auto_arima(eurusd['close'], start_P = 1, start_q = 1, max_p = 3, max_q = 3, m=12, start_p = 0, seasonal =True\n",
    "                          , d=None, D=1, trace=True, \n",
    "                           error_action='ignore', # We don't want to know if an order does not work\n",
    "                           surpress_warnings=True, #We don't want convergence warnings\n",
    "                           stepwise=True) #Set to stepwise\n",
    "stepwise_fit.summary()"
   ]
  },
  {
   "cell_type": "code",
   "execution_count": null,
   "metadata": {},
   "outputs": [],
   "source": [
    "#First order differencing\n",
    "\n",
    "#import statsmodels.tsa.statespace.tools \n",
    "##import diff\n",
    "#eurusd['d1'] = diff(eurusd['close'], k_diff = 1)"
   ]
  },
  {
   "cell_type": "code",
   "execution_count": null,
   "metadata": {},
   "outputs": [],
   "source": [
    "print('Augmented Dickey-Fuller Test on EURUSD Exchange Rate Data')\n",
    "dfout = pd.Series(dftest[0:4], index = ['ADF Test Statistic', 'p-value', '# lags used', '# observations'])\n",
    "\n",
    "for key, val in dftest[4].items():\n",
    "    dfout[f'critical value({key})']=val\n",
    "    print(dfout)"
   ]
  },
  {
   "cell_type": "markdown",
   "metadata": {},
   "source": [
    "The P-value above is greater than 5% using the dickey fuller test, hence we accept the null-hypothesis to be true, that our time series data for eurusd is non-stationary"
   ]
  },
  {
   "cell_type": "markdown",
   "metadata": {},
   "source": [
    "MACHINE LEARNING"
   ]
  },
  {
   "cell_type": "markdown",
   "metadata": {},
   "source": [
    "ARIMA MODEL"
   ]
  },
  {
   "cell_type": "code",
   "execution_count": null,
   "metadata": {},
   "outputs": [],
   "source": [
    "eurusd.shape"
   ]
  },
  {
   "cell_type": "code",
   "execution_count": null,
   "metadata": {},
   "outputs": [],
   "source": [
    "train = eurusd.close.iloc[:4457]\n",
    "test  = eurusd.close.iloc[4457:]"
   ]
  },
  {
   "cell_type": "code",
   "execution_count": null,
   "metadata": {},
   "outputs": [],
   "source": [
    "test"
   ]
  },
  {
   "cell_type": "code",
   "execution_count": null,
   "metadata": {},
   "outputs": [],
   "source": [
    "from statsmodels.tsa.arima_model import ARIMA,ARIMAResults, ARIMA, ARIMAResults"
   ]
  },
  {
   "cell_type": "code",
   "execution_count": null,
   "metadata": {},
   "outputs": [],
   "source": [
    "model = ARIMA(train, order = (1,0,0))\n",
    "results = model.fit()\n",
    "results.summary()"
   ]
  },
  {
   "cell_type": "code",
   "execution_count": null,
   "metadata": {},
   "outputs": [],
   "source": [
    "# Obtain predicted values\n",
    "\n",
    "start = len(train)\n",
    "end = len(train) + len(test)\n",
    "predictions = results.predict(start = start, end = end, dynamic = False).rename('ARIMA(1,0,0) Predictions')\n",
    "#, typ='levels'"
   ]
  },
  {
   "cell_type": "code",
   "execution_count": null,
   "metadata": {},
   "outputs": [],
   "source": [
    "# Compare predictions to expected values\n",
    "forecast_errors = [expected[i]-predictions[i] for i in range(len(expected))]"
   ]
  },
  {
   "cell_type": "code",
   "execution_count": null,
   "metadata": {},
   "outputs": [],
   "source": [
    "forecast_errors"
   ]
  },
  {
   "cell_type": "code",
   "execution_count": null,
   "metadata": {},
   "outputs": [],
   "source": [
    "# Plot predictions against known values\n",
    "ax = test['close'].plot(legend=True, figsize=(12,6))\n",
    "predictions.plot(legend=True)\n",
    "ax.autoscale(axis = 'x', tight=True)"
   ]
  },
  {
   "cell_type": "code",
   "execution_count": null,
   "metadata": {},
   "outputs": [],
   "source": [
    "from sklearn.metrics import mean_squared_error\n",
    "\n",
    "error = mean_squared_error(test['close'], predictions)\n",
    "print(f'ARIMA(1,0,0) MSE Error {error}')"
   ]
  },
  {
   "cell_type": "code",
   "execution_count": null,
   "metadata": {},
   "outputs": [],
   "source": [
    "from statsmodels.tools.eval_measures import rmse\n",
    "\n",
    "error = rmse(test['close'], predictions)\n",
    "print(f'ARIMA(1,0,0) RMSE Error: {error:11.10}')"
   ]
  },
  {
   "cell_type": "markdown",
   "metadata": {},
   "source": [
    "#### Retrain the model on the full data, and forecast the future"
   ]
  },
  {
   "cell_type": "code",
   "execution_count": null,
   "metadata": {},
   "outputs": [],
   "source": [
    "model = ARIMA(eurusd['close'], order=(1,0,0))\n",
    "results = model.fit()\n",
    "fcast = results.predict(len(airline), len(airline)+365*10, typ='levels').rename('ARIMA(1,0,0)Forecast')"
   ]
  },
  {
   "cell_type": "code",
   "execution_count": null,
   "metadata": {},
   "outputs": [],
   "source": [
    "# Plot predictions against known values\n",
    "\n",
    "ax = eurusd['close'].plot(legend=True, figsize=(12,6))\n",
    "fcast.plot(legend=True)\n",
    "ax.autoscale(axis='x', tight=True)"
   ]
  },
  {
   "cell_type": "code",
   "execution_count": null,
   "metadata": {},
   "outputs": [],
   "source": []
  },
  {
   "cell_type": "code",
   "execution_count": null,
   "metadata": {},
   "outputs": [],
   "source": []
  },
  {
   "cell_type": "code",
   "execution_count": null,
   "metadata": {},
   "outputs": [],
   "source": []
  },
  {
   "cell_type": "code",
   "execution_count": null,
   "metadata": {},
   "outputs": [],
   "source": []
  },
  {
   "cell_type": "markdown",
   "metadata": {},
   "source": [
    "#### SARIMAX MODEL"
   ]
  },
  {
   "cell_type": "code",
   "execution_count": null,
   "metadata": {},
   "outputs": [],
   "source": [
    "from statsmodels.tsa.statespace.sarimax import SARIMAX"
   ]
  },
  {
   "cell_type": "code",
   "execution_count": null,
   "metadata": {},
   "outputs": [],
   "source": [
    "model  = SARIMAX(train['close'], order=(1,0,0), seasonal_order=(1,1,1,12), enforce_invertibility=False)\n",
    "results = model.fit()\n",
    "results.summary()"
   ]
  },
  {
   "cell_type": "code",
   "execution_count": null,
   "metadata": {},
   "outputs": [],
   "source": [
    "start = len(train)\n",
    "end = len(train) + len(test)-1\n",
    "predictions = results.predict(start = start, end = end, dynamic = False, typ='levels').rename('SARIMAX(1,0,0) Predictions')"
   ]
  },
  {
   "cell_type": "code",
   "execution_count": null,
   "metadata": {},
   "outputs": [],
   "source": [
    "# Compare predictions to expected values\n",
    "\n",
    "for i in range(len(predictions)):\n",
    "    print(f\"predicted={predictions[i]}, expected={test['close'][i]}\")"
   ]
  },
  {
   "cell_type": "code",
   "execution_count": null,
   "metadata": {},
   "outputs": [],
   "source": [
    "# Plot predictions against known values\n",
    "ax = test['close'].plot(legend=True, figsize=(12,6))\n",
    "predictions.plot(legend=True)\n",
    "ax.autoscale(axis = 'x', tight=True)"
   ]
  },
  {
   "cell_type": "code",
   "execution_count": null,
   "metadata": {},
   "outputs": [],
   "source": [
    "from sklearn.metrics import mean_squared_error\n",
    "\n",
    "error = mean_squared_error(test['close'], predictions)\n",
    "print(f'SARIMAX(1,0,0) MSE Error {error}')"
   ]
  },
  {
   "cell_type": "code",
   "execution_count": null,
   "metadata": {},
   "outputs": [],
   "source": [
    "from statsmodels.tools.eval_measures import rmse\n",
    "\n",
    "error = rmse(test['close'], predictions)\n",
    "print(f'SARIMAX(1,0,0) RMSE Error: {error:11.10}')"
   ]
  },
  {
   "cell_type": "markdown",
   "metadata": {},
   "source": [
    "#### Retrain Sarimax model"
   ]
  },
  {
   "cell_type": "code",
   "execution_count": null,
   "metadata": {},
   "outputs": [],
   "source": [
    "model = SARIMAX(eurusd['close'], order=(1,0,0), seasonal_order=(2,1,1,12), enforce_invinsibility=False)\n",
    "results = model.fit()\n",
    "fcast = results.predict(len(airline), len(airline)+365*10, typ='levels').rename('SARIMAX(1,0,0)Forecast')"
   ]
  },
  {
   "cell_type": "code",
   "execution_count": null,
   "metadata": {},
   "outputs": [],
   "source": [
    "# Plot predictions against known values\n",
    "\n",
    "ax = eurusd['close'].plot(legend=True, figsize=(12,6))\n",
    "fcast.plot(legend=True)\n",
    "ax.autoscale(axis='x', tight=True)"
   ]
  },
  {
   "cell_type": "code",
   "execution_count": null,
   "metadata": {},
   "outputs": [],
   "source": []
  },
  {
   "cell_type": "code",
   "execution_count": null,
   "metadata": {},
   "outputs": [],
   "source": []
  },
  {
   "cell_type": "code",
   "execution_count": null,
   "metadata": {},
   "outputs": [],
   "source": []
  },
  {
   "cell_type": "code",
   "execution_count": null,
   "metadata": {},
   "outputs": [],
   "source": []
  },
  {
   "cell_type": "code",
   "execution_count": null,
   "metadata": {},
   "outputs": [],
   "source": [
    "#predict next value\n",
    "predicted = StartARIMAForecasting(eurusdclose, 1,1,0)\n",
    "#display the value\n",
    "print('Predicted=%f' % (predicted))"
   ]
  },
  {
   "cell_type": "code",
   "execution_count": null,
   "metadata": {},
   "outputs": [],
   "source": [
    "#Get exchange rates\n",
    "ActualData = eurusdclose\n",
    "#Size of exchange rates\n",
    "NumberOfElements = len(ActualData)\n",
    "\n",
    "#Use 70% of data as training, rest 30% to Test model\n",
    "TrainingSize = int(NumberOfElements * 0.7)\n",
    "TrainingData = ActualData[0:TrainingSize]\n",
    "TestData = ActualData[TrainingSize:NumberOfElements]\n",
    "\n",
    "#new arrays to store actual and predictions\n",
    "Actual = [x for x in TrainingData]\n",
    "\n",
    "Predictions = list()\n",
    "\n",
    "#in a for loop, predict values using ARIMA model\n",
    "for timepoint in range(len(TestData)):\n",
    "    ActualValue =  TestData[timepoint]\n",
    "    #forcast value\n",
    "    Prediction = StartARIMAForecasting(Actual, 3,1,0)    \n",
    "    print('Actual=%f, Predicted=%f' % (ActualValue, Prediction))\n",
    "    #add it in the list\n",
    "    Predictions.append(Prediction)\n",
    "    Actual.append(ActualValue)\n",
    "#Print MSE to see how good the model is\n",
    "Error = mean_squared_error(TestData, Predictions)\n",
    "print('Test Mean Squared Error (smaller the better fit): %.3f' % Error)\n",
    "# plot\n",
    "plt.plot(TestData)\n",
    "plt.plot(Predictions, color='red')"
   ]
  },
  {
   "cell_type": "code",
   "execution_count": null,
   "metadata": {},
   "outputs": [],
   "source": [
    "#Function that calls ARIMA model to fit and forecast the data\n",
    "def StartARIMAForecasting(Actual, P, D, Q):\n",
    "    model = ARIMA(Actual, order=(P, D, Q))\n",
    "    model_fit = model.fit(disp=0)\n",
    "    prediction = model_fit.forecast()[0]\n",
    "    return prediction"
   ]
  },
  {
   "cell_type": "code",
   "execution_count": null,
   "metadata": {},
   "outputs": [],
   "source": []
  },
  {
   "cell_type": "code",
   "execution_count": null,
   "metadata": {},
   "outputs": [],
   "source": []
  },
  {
   "cell_type": "code",
   "execution_count": null,
   "metadata": {},
   "outputs": [],
   "source": []
  },
  {
   "cell_type": "code",
   "execution_count": null,
   "metadata": {},
   "outputs": [],
   "source": []
  }
 ],
 "metadata": {
  "kernelspec": {
   "display_name": "Python 3",
   "language": "python",
   "name": "python3"
  },
  "language_info": {
   "codemirror_mode": {
    "name": "ipython",
    "version": 3
   },
   "file_extension": ".py",
   "mimetype": "text/x-python",
   "name": "python",
   "nbconvert_exporter": "python",
   "pygments_lexer": "ipython3",
   "version": "3.7.3"
  }
 },
 "nbformat": 4,
 "nbformat_minor": 2
}
