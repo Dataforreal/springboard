{
 "cells": [
  {
   "cell_type": "code",
   "execution_count": 1,
   "metadata": {},
   "outputs": [],
   "source": [
    "# Import Libraries\n",
    "import numpy as np\n",
    "import matplotlib.pyplot as plt\n",
    "import pandas as pd"
   ]
  },
  {
   "cell_type": "code",
   "execution_count": 2,
   "metadata": {},
   "outputs": [
    {
     "data": {
      "text/plain": [
       "array([1.0085 , 1.0255 , 1.0304 , ..., 1.10882, 1.10925, 1.10953])"
      ]
     },
     "execution_count": 2,
     "metadata": {},
     "output_type": "execute_result"
    }
   ],
   "source": [
    "#get data\n",
    "eurusd = pd.read_csv(r'eurousd.csv', index_col=0, parse_dates=True, skipinitialspace=True)\n",
    "dataset = eurusd.Open.values #numpy.ndarray\n",
    "dataset"
   ]
  },
  {
   "cell_type": "code",
   "execution_count": 3,
   "metadata": {},
   "outputs": [
    {
     "data": {
      "text/plain": [
       "array([[1.0085 ],\n",
       "       [1.0255 ],\n",
       "       [1.0304 ],\n",
       "       ...,\n",
       "       [1.10882],\n",
       "       [1.10925],\n",
       "       [1.10953]])"
      ]
     },
     "execution_count": 3,
     "metadata": {},
     "output_type": "execute_result"
    }
   ],
   "source": [
    "# Rescape data\n",
    "dataset = np.reshape(dataset, (-1, 1))\n",
    "dataset"
   ]
  },
  {
   "cell_type": "code",
   "execution_count": 30,
   "metadata": {},
   "outputs": [
    {
     "name": "stdout",
     "output_type": "stream",
     "text": [
      "4149\n",
      "1038\n"
     ]
    }
   ],
   "source": [
    "train_size = int(len(dataset) * 0.80)\n",
    "\n",
    "test_size = len(dataset) - train_size\n",
    "\n",
    "train, test = dataset[0:train_size,:], dataset[train_size:len(dataset),:]\n",
    "print(train_size)\n",
    "print(test_size)"
   ]
  },
  {
   "cell_type": "code",
   "execution_count": 5,
   "metadata": {},
   "outputs": [],
   "source": [
    "#Feature Scaling\n",
    "from sklearn.preprocessing import MinMaxScaler\n",
    "sc = MinMaxScaler(feature_range=(0, 1))\n",
    "train_scaled = sc.fit_transform(train)"
   ]
  },
  {
   "cell_type": "code",
   "execution_count": 6,
   "metadata": {},
   "outputs": [],
   "source": [
    "# Create a data structure with 60 timestamps and 1 output\n",
    "X_train = []\n",
    "y_train = []\n",
    "for i in range(60, len(train_scaled)):\n",
    "    X_train.append(train_scaled[i-60:i, 0])\n",
    "    y_train.append(train_scaled[i, 0])\n",
    "X_train, y_train = np.array(X_train), np.array(y_train)"
   ]
  },
  {
   "cell_type": "code",
   "execution_count": 7,
   "metadata": {},
   "outputs": [],
   "source": [
    "# Reshape data\n",
    "X_train = np.reshape(X_train, (X_train.shape[0], X_train.shape[1], 1))"
   ]
  },
  {
   "cell_type": "markdown",
   "metadata": {},
   "source": [
    "#### BUILD RNN MODEL"
   ]
  },
  {
   "cell_type": "code",
   "execution_count": 8,
   "metadata": {},
   "outputs": [
    {
     "name": "stderr",
     "output_type": "stream",
     "text": [
      "Using TensorFlow backend.\n"
     ]
    }
   ],
   "source": [
    "# Importing the Keras Libarrios and Packages\n",
    "from keras.models import Sequential\n",
    "from keras.layers import Dense\n",
    "from keras.layers import LSTM\n",
    "from keras.layers import Dropout"
   ]
  },
  {
   "cell_type": "code",
   "execution_count": 9,
   "metadata": {},
   "outputs": [],
   "source": [
    "# Initializing the RNN\n",
    "\n",
    "regressor = Sequential()"
   ]
  },
  {
   "cell_type": "code",
   "execution_count": 10,
   "metadata": {},
   "outputs": [],
   "source": [
    "# Adding the first LSTM Layer and some Droupout regularisation\n",
    "regressor.add(LSTM(units = 50, return_sequences = True, input_shape = (X_train.shape[1], 1)))\n",
    "regressor.add(Dropout(0.2))"
   ]
  },
  {
   "cell_type": "code",
   "execution_count": 11,
   "metadata": {},
   "outputs": [],
   "source": [
    "# Adding the second LSTM layer and some Dropout regularisation\n",
    "regressor.add(LSTM(units = 50, return_sequences = True))\n",
    "regressor.add(Dropout(0.2))"
   ]
  },
  {
   "cell_type": "code",
   "execution_count": 12,
   "metadata": {},
   "outputs": [],
   "source": [
    "# Adding the third LSTM layer and some Dropout regularisation\n",
    "regressor.add(LSTM(units = 50, return_sequences = True))\n",
    "regressor.add(Dropout(0.2))"
   ]
  },
  {
   "cell_type": "code",
   "execution_count": 13,
   "metadata": {},
   "outputs": [],
   "source": [
    "# Adding the fourth LSTM layer and some Dropout regularisation\n",
    "regressor.add(LSTM(units = 50))\n",
    "regressor.add(Dropout(0.2))"
   ]
  },
  {
   "cell_type": "code",
   "execution_count": 14,
   "metadata": {},
   "outputs": [],
   "source": [
    "# Adding the output layer\n",
    "regressor.add(Dense(units = 1))"
   ]
  },
  {
   "cell_type": "code",
   "execution_count": 15,
   "metadata": {},
   "outputs": [],
   "source": [
    "# Compiling the RNN\n",
    "regressor.compile(optimizer = 'adam', loss = 'mean_squared_error')"
   ]
  },
  {
   "cell_type": "code",
   "execution_count": 16,
   "metadata": {},
   "outputs": [
    {
     "name": "stdout",
     "output_type": "stream",
     "text": [
      "Epoch 1/100\n",
      "4089/4089 [==============================] - 15s 4ms/step - loss: 0.0179\n",
      "Epoch 2/100\n",
      "4089/4089 [==============================] - 14s 3ms/step - loss: 0.0041\n",
      "Epoch 3/100\n",
      "4089/4089 [==============================] - 14s 3ms/step - loss: 0.0036\n",
      "Epoch 4/100\n",
      "4089/4089 [==============================] - 14s 3ms/step - loss: 0.0033\n",
      "Epoch 5/100\n",
      "4089/4089 [==============================] - 14s 3ms/step - loss: 0.0032\n",
      "Epoch 6/100\n",
      "4089/4089 [==============================] - 14s 3ms/step - loss: 0.0029\n",
      "Epoch 7/100\n",
      "4089/4089 [==============================] - 14s 3ms/step - loss: 0.0029\n",
      "Epoch 8/100\n",
      "4089/4089 [==============================] - 14s 4ms/step - loss: 0.0027\n",
      "Epoch 9/100\n",
      "4089/4089 [==============================] - 14s 3ms/step - loss: 0.0026\n",
      "Epoch 10/100\n",
      "4089/4089 [==============================] - 14s 3ms/step - loss: 0.0024\n",
      "Epoch 11/100\n",
      "4089/4089 [==============================] - 14s 3ms/step - loss: 0.0022\n",
      "Epoch 12/100\n",
      "4089/4089 [==============================] - 14s 3ms/step - loss: 0.0022\n",
      "Epoch 13/100\n",
      "4089/4089 [==============================] - 14s 4ms/step - loss: 0.0020\n",
      "Epoch 14/100\n",
      "4089/4089 [==============================] - 14s 3ms/step - loss: 0.0020\n",
      "Epoch 15/100\n",
      "4089/4089 [==============================] - 14s 4ms/step - loss: 0.0020\n",
      "Epoch 16/100\n",
      "4089/4089 [==============================] - 14s 4ms/step - loss: 0.0018\n",
      "Epoch 17/100\n",
      "4089/4089 [==============================] - 14s 3ms/step - loss: 0.0017\n",
      "Epoch 18/100\n",
      "4089/4089 [==============================] - 14s 3ms/step - loss: 0.0017\n",
      "Epoch 19/100\n",
      "4089/4089 [==============================] - 14s 3ms/step - loss: 0.0016\n",
      "Epoch 20/100\n",
      "4089/4089 [==============================] - 14s 3ms/step - loss: 0.0015\n",
      "Epoch 21/100\n",
      "4089/4089 [==============================] - 14s 3ms/step - loss: 0.0015\n",
      "Epoch 22/100\n",
      "4089/4089 [==============================] - 14s 4ms/step - loss: 0.0014\n",
      "Epoch 23/100\n",
      "4089/4089 [==============================] - 14s 3ms/step - loss: 0.0013\n",
      "Epoch 24/100\n",
      "4089/4089 [==============================] - 14s 3ms/step - loss: 0.0013\n",
      "Epoch 25/100\n",
      "4089/4089 [==============================] - 13s 3ms/step - loss: 0.0014\n",
      "Epoch 26/100\n",
      "4089/4089 [==============================] - 13s 3ms/step - loss: 0.0012\n",
      "Epoch 27/100\n",
      "4089/4089 [==============================] - 13s 3ms/step - loss: 0.0012\n",
      "Epoch 28/100\n",
      "4089/4089 [==============================] - 13s 3ms/step - loss: 0.0011\n",
      "Epoch 29/100\n",
      "4089/4089 [==============================] - 13s 3ms/step - loss: 0.0011\n",
      "Epoch 30/100\n",
      "4089/4089 [==============================] - 13s 3ms/step - loss: 0.0011\n",
      "Epoch 31/100\n",
      "4089/4089 [==============================] - 13s 3ms/step - loss: 0.0010\n",
      "Epoch 32/100\n",
      "4089/4089 [==============================] - 13s 3ms/step - loss: 0.0011\n",
      "Epoch 33/100\n",
      "4089/4089 [==============================] - 13s 3ms/step - loss: 9.7123e-04\n",
      "Epoch 34/100\n",
      "4089/4089 [==============================] - 13s 3ms/step - loss: 9.7593e-04\n",
      "Epoch 35/100\n",
      "4089/4089 [==============================] - 14s 3ms/step - loss: 9.1757e-04\n",
      "Epoch 36/100\n",
      "4089/4089 [==============================] - 13s 3ms/step - loss: 9.9224e-04\n",
      "Epoch 37/100\n",
      "4089/4089 [==============================] - 13s 3ms/step - loss: 9.1303e-04\n",
      "Epoch 38/100\n",
      "4089/4089 [==============================] - 13s 3ms/step - loss: 8.5848e-04\n",
      "Epoch 39/100\n",
      "4089/4089 [==============================] - 14s 3ms/step - loss: 8.0809e-04\n",
      "Epoch 40/100\n",
      "4089/4089 [==============================] - 14s 3ms/step - loss: 9.1809e-04\n",
      "Epoch 41/100\n",
      "4089/4089 [==============================] - 13s 3ms/step - loss: 8.4574e-04\n",
      "Epoch 42/100\n",
      "4089/4089 [==============================] - 14s 3ms/step - loss: 8.3403e-04\n",
      "Epoch 43/100\n",
      "4089/4089 [==============================] - 13s 3ms/step - loss: 8.2334e-04\n",
      "Epoch 44/100\n",
      "4089/4089 [==============================] - 13s 3ms/step - loss: 8.6450e-04\n",
      "Epoch 45/100\n",
      "4089/4089 [==============================] - 14s 3ms/step - loss: 7.8842e-04\n",
      "Epoch 46/100\n",
      "4089/4089 [==============================] - 15s 4ms/step - loss: 7.8711e-04\n",
      "Epoch 47/100\n",
      "4089/4089 [==============================] - 15s 4ms/step - loss: 8.0393e-04\n",
      "Epoch 48/100\n",
      "4089/4089 [==============================] - 15s 4ms/step - loss: 7.7380e-04\n",
      "Epoch 49/100\n",
      "4089/4089 [==============================] - 14s 3ms/step - loss: 7.5382e-04\n",
      "Epoch 50/100\n",
      "4089/4089 [==============================] - 14s 3ms/step - loss: 6.9717e-04\n",
      "Epoch 51/100\n",
      "4089/4089 [==============================] - 14s 3ms/step - loss: 7.1581e-04\n",
      "Epoch 52/100\n",
      "4089/4089 [==============================] - 13s 3ms/step - loss: 6.8473e-04\n",
      "Epoch 53/100\n",
      "4089/4089 [==============================] - 13s 3ms/step - loss: 7.4359e-04\n",
      "Epoch 54/100\n",
      "4089/4089 [==============================] - 14s 3ms/step - loss: 7.5023e-04\n",
      "Epoch 55/100\n",
      "4089/4089 [==============================] - 13s 3ms/step - loss: 7.2814e-04\n",
      "Epoch 56/100\n",
      "4089/4089 [==============================] - 13s 3ms/step - loss: 7.6007e-04\n",
      "Epoch 57/100\n",
      "4089/4089 [==============================] - 13s 3ms/step - loss: 6.8021e-04\n",
      "Epoch 58/100\n",
      "4089/4089 [==============================] - 13s 3ms/step - loss: 7.5411e-04\n",
      "Epoch 59/100\n",
      "4089/4089 [==============================] - 13s 3ms/step - loss: 7.3931e-04\n",
      "Epoch 60/100\n",
      "4089/4089 [==============================] - 13s 3ms/step - loss: 6.1839e-04\n",
      "Epoch 61/100\n",
      "4089/4089 [==============================] - 13s 3ms/step - loss: 7.3430e-04\n",
      "Epoch 62/100\n",
      "4089/4089 [==============================] - 13s 3ms/step - loss: 6.7647e-04\n",
      "Epoch 63/100\n",
      "4089/4089 [==============================] - 13s 3ms/step - loss: 6.4818e-04\n",
      "Epoch 64/100\n",
      "4089/4089 [==============================] - 13s 3ms/step - loss: 6.9430e-04\n",
      "Epoch 65/100\n",
      "4089/4089 [==============================] - 13s 3ms/step - loss: 6.2801e-04\n",
      "Epoch 66/100\n",
      "4089/4089 [==============================] - 13s 3ms/step - loss: 6.1542e-04\n",
      "Epoch 67/100\n",
      "4089/4089 [==============================] - 13s 3ms/step - loss: 7.2753e-04\n",
      "Epoch 68/100\n",
      "4089/4089 [==============================] - 13s 3ms/step - loss: 6.2596e-04\n",
      "Epoch 69/100\n",
      "4089/4089 [==============================] - 14s 3ms/step - loss: 6.3513e-04\n",
      "Epoch 70/100\n",
      "4089/4089 [==============================] - 14s 3ms/step - loss: 6.2673e-04\n",
      "Epoch 71/100\n",
      "4089/4089 [==============================] - 16s 4ms/step - loss: 6.6052e-04\n",
      "Epoch 72/100\n",
      "4089/4089 [==============================] - 15s 4ms/step - loss: 6.2063e-04\n",
      "Epoch 73/100\n",
      "4089/4089 [==============================] - 15s 4ms/step - loss: 6.1960e-04\n",
      "Epoch 74/100\n",
      "4089/4089 [==============================] - 15s 4ms/step - loss: 7.1238e-04\n",
      "Epoch 75/100\n",
      "4089/4089 [==============================] - 14s 3ms/step - loss: 6.3405e-04\n",
      "Epoch 76/100\n",
      "4089/4089 [==============================] - 14s 3ms/step - loss: 6.4023e-04\n",
      "Epoch 77/100\n",
      "4089/4089 [==============================] - 13s 3ms/step - loss: 6.3603e-04\n",
      "Epoch 78/100\n",
      "4089/4089 [==============================] - 14s 3ms/step - loss: 6.5879e-04\n",
      "Epoch 79/100\n",
      "4089/4089 [==============================] - 14s 3ms/step - loss: 5.9887e-04\n",
      "Epoch 80/100\n",
      "4089/4089 [==============================] - 14s 3ms/step - loss: 6.8571e-04\n",
      "Epoch 81/100\n",
      "4089/4089 [==============================] - 14s 3ms/step - loss: 6.1665e-04\n",
      "Epoch 82/100\n",
      "4089/4089 [==============================] - 15s 4ms/step - loss: 5.8461e-04\n",
      "Epoch 83/100\n",
      "4089/4089 [==============================] - 15s 4ms/step - loss: 6.7513e-04\n",
      "Epoch 84/100\n",
      "4089/4089 [==============================] - 14s 3ms/step - loss: 5.9796e-04\n",
      "Epoch 85/100\n",
      "4089/4089 [==============================] - 14s 3ms/step - loss: 5.8234e-04\n",
      "Epoch 86/100\n",
      "4089/4089 [==============================] - 15s 4ms/step - loss: 6.2115e-04\n",
      "Epoch 87/100\n",
      "4089/4089 [==============================] - 15s 4ms/step - loss: 5.5851e-04\n",
      "Epoch 88/100\n",
      "4089/4089 [==============================] - ETA: 0s - loss: 5.3779e-0 - 14s 3ms/step - loss: 5.3872e-04\n",
      "Epoch 89/100\n",
      "4089/4089 [==============================] - 14s 3ms/step - loss: 6.0226e-04\n",
      "Epoch 90/100\n",
      "4089/4089 [==============================] - 14s 3ms/step - loss: 5.7374e-04\n",
      "Epoch 91/100\n",
      "4089/4089 [==============================] - 14s 3ms/step - loss: 5.6384e-04\n",
      "Epoch 92/100\n",
      "4089/4089 [==============================] - 14s 4ms/step - loss: 6.4435e-04\n",
      "Epoch 93/100\n"
     ]
    },
    {
     "name": "stdout",
     "output_type": "stream",
     "text": [
      "4089/4089 [==============================] - 14s 3ms/step - loss: 6.1522e-04\n",
      "Epoch 94/100\n",
      "4089/4089 [==============================] - 14s 3ms/step - loss: 5.5649e-04\n",
      "Epoch 95/100\n",
      "4089/4089 [==============================] - 14s 3ms/step - loss: 5.5540e-04\n",
      "Epoch 96/100\n",
      "4089/4089 [==============================] - 14s 3ms/step - loss: 5.4622e-04\n",
      "Epoch 97/100\n",
      "4089/4089 [==============================] - 14s 3ms/step - loss: 5.7089e-04\n",
      "Epoch 98/100\n",
      "4089/4089 [==============================] - 14s 3ms/step - loss: 6.0323e-04\n",
      "Epoch 99/100\n",
      "4089/4089 [==============================] - 14s 3ms/step - loss: 5.6095e-04\n",
      "Epoch 100/100\n",
      "4089/4089 [==============================] - 13s 3ms/step - loss: 5.6980e-04\n"
     ]
    },
    {
     "data": {
      "text/plain": [
       "<keras.callbacks.callbacks.History at 0x1c94bd69e48>"
      ]
     },
     "execution_count": 16,
     "metadata": {},
     "output_type": "execute_result"
    }
   ],
   "source": [
    "# Fitting the RNN to the training set\n",
    "regressor.fit(X_train, y_train, epochs = 100, batch_size = 32)"
   ]
  },
  {
   "cell_type": "code",
   "execution_count": 18,
   "metadata": {},
   "outputs": [
    {
     "name": "stdout",
     "output_type": "stream",
     "text": [
      "Model: \"sequential_1\"\n",
      "_________________________________________________________________\n",
      "Layer (type)                 Output Shape              Param #   \n",
      "=================================================================\n",
      "lstm_1 (LSTM)                (None, 60, 50)            10400     \n",
      "_________________________________________________________________\n",
      "dropout_1 (Dropout)          (None, 60, 50)            0         \n",
      "_________________________________________________________________\n",
      "lstm_2 (LSTM)                (None, 60, 50)            20200     \n",
      "_________________________________________________________________\n",
      "dropout_2 (Dropout)          (None, 60, 50)            0         \n",
      "_________________________________________________________________\n",
      "lstm_3 (LSTM)                (None, 60, 50)            20200     \n",
      "_________________________________________________________________\n",
      "dropout_3 (Dropout)          (None, 60, 50)            0         \n",
      "_________________________________________________________________\n",
      "lstm_4 (LSTM)                (None, 50)                20200     \n",
      "_________________________________________________________________\n",
      "dropout_4 (Dropout)          (None, 50)                0         \n",
      "_________________________________________________________________\n",
      "dense_1 (Dense)              (None, 1)                 51        \n",
      "=================================================================\n",
      "Total params: 71,051\n",
      "Trainable params: 71,051\n",
      "Non-trainable params: 0\n",
      "_________________________________________________________________\n"
     ]
    }
   ],
   "source": [
    "regressor.summary()"
   ]
  },
  {
   "cell_type": "code",
   "execution_count": 45,
   "metadata": {},
   "outputs": [],
   "source": [
    "# Making the predictions and visualizing the results\n",
    "dataset_total = pd.concat((eurusd.Open.iloc[0:4149], eurusd.Open.iloc[4149:len(dataset)]), axis = 0)\n",
    "inputs = dataset_total[len(dataset_total) - len(test) - 60:].values\n",
    "inputs = inputs.reshape(-1,1)\n",
    "inputs = sc.transform(inputs)\n",
    "X_test = []\n",
    "for i in range(60, 1098):\n",
    "    X_test.append(inputs[i-60:i, 0])\n",
    "X_test = np.array(X_test)\n",
    "X_test = np.reshape(X_test, (X_test.shape[0], X_test.shape[1], 1))\n",
    "predicted_exchange_rate = regressor.predict(X_test)\n",
    "predicted_exchange_rate = sc.inverse_transform(predicted_exchange_rate)"
   ]
  },
  {
   "cell_type": "code",
   "execution_count": 46,
   "metadata": {},
   "outputs": [
    {
     "data": {
      "image/png": "[encoded data removed]",
      "text/plain": [
       "<Figure size 1008x360 with 1 Axes>"
      ]
     },
     "metadata": {
      "needs_background": "light"
     },
     "output_type": "display_data"
    }
   ],
   "source": [
    "# Visualising the results\n",
    "plt.figure(figsize=(14,5))\n",
    "plt.plot(test, color = 'red', label = 'Real EURUSD Exchange Rate', linewidth=1)\n",
    "plt.plot(predicted_exchange_rate, color = 'blue', label = 'predicted_exchange_rate', linewidth=1)\n",
    "plt.title('EURUSD Exchange Rate Prediction')\n",
    "plt.xlabel('Time')\n",
    "plt.ylabel('EURUSD Exchage Rate')\n",
    "plt.legend()\n",
    "plt.show()"
   ]
  },
  {
   "cell_type": "code",
   "execution_count": 60,
   "metadata": {},
   "outputs": [],
   "source": [
    "y_test = regressor.predict(X_test)"
   ]
  },
  {
   "cell_type": "code",
   "execution_count": 61,
   "metadata": {},
   "outputs": [
    {
     "ename": "ValueError",
     "evalue": "Error when checking target: expected dense_1 to have shape (1,) but got array with shape (4089,)",
     "output_type": "error",
     "traceback": [
      "\u001b[1;31m---------------------------------------------------------------------------\u001b[0m",
      "\u001b[1;31mValueError\u001b[0m                                Traceback (most recent call last)",
      "\u001b[1;32m<ipython-input-61-c68c92e74852>\u001b[0m in \u001b[0;36m<module>\u001b[1;34m\u001b[0m\n\u001b[0;32m      2\u001b[0m history = regressor.fit(X_train, y_train, epochs=100, batch_size=32, validation_data=(X_test, y_test), \n\u001b[0;32m      3\u001b[0m \u001b[1;33m\u001b[0m\u001b[0m\n\u001b[1;32m----> 4\u001b[1;33m                     callbacks=[EarlyStopping(monitor='val_loss', patience=10)], verbose=1, shuffle=False)\n\u001b[0m",
      "\u001b[1;32m~\\Anaconda3\\lib\\site-packages\\keras\\engine\\training.py\u001b[0m in \u001b[0;36mfit\u001b[1;34m(self, x, y, batch_size, epochs, verbose, callbacks, validation_split, validation_data, shuffle, class_weight, sample_weight, initial_epoch, steps_per_epoch, validation_steps, validation_freq, max_queue_size, workers, use_multiprocessing, **kwargs)\u001b[0m\n\u001b[0;32m   1152\u001b[0m             \u001b[0msample_weight\u001b[0m\u001b[1;33m=\u001b[0m\u001b[0msample_weight\u001b[0m\u001b[1;33m,\u001b[0m\u001b[1;33m\u001b[0m\u001b[1;33m\u001b[0m\u001b[0m\n\u001b[0;32m   1153\u001b[0m             \u001b[0mclass_weight\u001b[0m\u001b[1;33m=\u001b[0m\u001b[0mclass_weight\u001b[0m\u001b[1;33m,\u001b[0m\u001b[1;33m\u001b[0m\u001b[1;33m\u001b[0m\u001b[0m\n\u001b[1;32m-> 1154\u001b[1;33m             batch_size=batch_size)\n\u001b[0m\u001b[0;32m   1155\u001b[0m \u001b[1;33m\u001b[0m\u001b[0m\n\u001b[0;32m   1156\u001b[0m         \u001b[1;31m# Prepare validation data.\u001b[0m\u001b[1;33m\u001b[0m\u001b[1;33m\u001b[0m\u001b[1;33m\u001b[0m\u001b[0m\n",
      "\u001b[1;32m~\\Anaconda3\\lib\\site-packages\\keras\\engine\\training.py\u001b[0m in \u001b[0;36m_standardize_user_data\u001b[1;34m(self, x, y, sample_weight, class_weight, check_array_lengths, batch_size)\u001b[0m\n\u001b[0;32m    619\u001b[0m                 \u001b[0mfeed_output_shapes\u001b[0m\u001b[1;33m,\u001b[0m\u001b[1;33m\u001b[0m\u001b[1;33m\u001b[0m\u001b[0m\n\u001b[0;32m    620\u001b[0m                 \u001b[0mcheck_batch_axis\u001b[0m\u001b[1;33m=\u001b[0m\u001b[1;32mFalse\u001b[0m\u001b[1;33m,\u001b[0m  \u001b[1;31m# Don't enforce the batch size.\u001b[0m\u001b[1;33m\u001b[0m\u001b[1;33m\u001b[0m\u001b[0m\n\u001b[1;32m--> 621\u001b[1;33m                 exception_prefix='target')\n\u001b[0m\u001b[0;32m    622\u001b[0m \u001b[1;33m\u001b[0m\u001b[0m\n\u001b[0;32m    623\u001b[0m             \u001b[1;31m# Generate sample-wise weight values given the `sample_weight` and\u001b[0m\u001b[1;33m\u001b[0m\u001b[1;33m\u001b[0m\u001b[1;33m\u001b[0m\u001b[0m\n",
      "\u001b[1;32m~\\Anaconda3\\lib\\site-packages\\keras\\engine\\training_utils.py\u001b[0m in \u001b[0;36mstandardize_input_data\u001b[1;34m(data, names, shapes, check_batch_axis, exception_prefix)\u001b[0m\n\u001b[0;32m    143\u001b[0m                             \u001b[1;34m': expected '\u001b[0m \u001b[1;33m+\u001b[0m \u001b[0mnames\u001b[0m\u001b[1;33m[\u001b[0m\u001b[0mi\u001b[0m\u001b[1;33m]\u001b[0m \u001b[1;33m+\u001b[0m \u001b[1;34m' to have shape '\u001b[0m \u001b[1;33m+\u001b[0m\u001b[1;33m\u001b[0m\u001b[1;33m\u001b[0m\u001b[0m\n\u001b[0;32m    144\u001b[0m                             \u001b[0mstr\u001b[0m\u001b[1;33m(\u001b[0m\u001b[0mshape\u001b[0m\u001b[1;33m)\u001b[0m \u001b[1;33m+\u001b[0m \u001b[1;34m' but got array with shape '\u001b[0m \u001b[1;33m+\u001b[0m\u001b[1;33m\u001b[0m\u001b[1;33m\u001b[0m\u001b[0m\n\u001b[1;32m--> 145\u001b[1;33m                             str(data_shape))\n\u001b[0m\u001b[0;32m    146\u001b[0m     \u001b[1;32mreturn\u001b[0m \u001b[0mdata\u001b[0m\u001b[1;33m\u001b[0m\u001b[1;33m\u001b[0m\u001b[0m\n\u001b[0;32m    147\u001b[0m \u001b[1;33m\u001b[0m\u001b[0m\n",
      "\u001b[1;31mValueError\u001b[0m: Error when checking target: expected dense_1 to have shape (1,) but got array with shape (4089,)"
     ]
    }
   ],
   "source": [
    "#from keras.callbacks import EarlyStopping\n",
    "#history = regressor.fit(X_train, y_train, epochs=100, batch_size=32, validation_data=(X_test, y_test), \n",
    "\n",
    "                    #callbacks=[EarlyStopping(monitor='val_loss', patience=10)], verbose=1, shuffle=False)"
   ]
  },
  {
   "cell_type": "code",
   "execution_count": null,
   "metadata": {},
   "outputs": [],
   "source": [
    "# MODEL LOSS\n",
    "plt.figure(figsize=(8,4))\n",
    "plt.plot(history.history['loss'], label='Train Loss')\n",
    "plt.plot(history.history['val_loss'], label='Test Loss')\n",
    "plt.title('model loss')\n",
    "plt.ylabel('loss')\n",
    "plt.xlabel('epochs')\n",
    "plt.legend(loc='upper right')\n",
    "plt.show();"
   ]
  }
 ],
 "metadata": {
  "kernelspec": {
   "display_name": "Python 3",
   "language": "python",
   "name": "python3"
  },
  "language_info": {
   "codemirror_mode": {
    "name": "ipython",
    "version": 3
   },
   "file_extension": ".py",
   "mimetype": "text/x-python",
   "name": "python",
   "nbconvert_exporter": "python",
   "pygments_lexer": "ipython3",
   "version": "3.7.3"
  }
 },
 "nbformat": 4,
 "nbformat_minor": 2
}
