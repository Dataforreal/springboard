{
 "cells": [
  {
   "cell_type": "markdown",
   "metadata": {},
   "source": [
    "#### Capstone 2 Arima Model"
   ]
  },
  {
   "cell_type": "code",
   "execution_count": null,
   "metadata": {},
   "outputs": [],
   "source": [
    "# Import Libraries\n",
    "import numpy as np\n",
    "import pandas as pd\n",
    "import matplotlib.pyplot as plt\n",
    "import matplotlib  as mpl \n",
    "%matplotlib inline\n",
    "\n",
    "# Load Specific forecasting tools\n",
    "from statsmodels.tsa.arima_model import ARIMA,ARIMAResults, ARIMA, ARIMAResults\n",
    "from statsmodels.graphics.tsaplots import plot_acf, plot_pacf\n",
    "from pmdarima import auto_arima\n",
    "\n",
    "import itertools\n",
    "import statsmodels.api as sm\n",
    "plt.style.use('fivethirtyeight')\n",
    "from statsmodels.tsa.arima_model import ARIMA\n",
    "from sklearn.metrics import mean_squared_error\n",
    "from statsmodels.tsa.seasonal import seasonal_decompose\n",
    "from statsmodels.tsa.stattools import adfuller\n",
    "\n",
    "# Ignore harmless warnings\n",
    "import warnings\n",
    "warnings.filterwarnings('ignore')"
   ]
  },
  {
   "cell_type": "markdown",
   "metadata": {},
   "source": [
    "#### DATA CLEANING AND EXPLORATORY DATA ANALYSIS"
   ]
  },
  {
   "cell_type": "code",
   "execution_count": null,
   "metadata": {},
   "outputs": [],
   "source": [
    "#get data\n",
    "eurusd = pd.read_csv(r'eurousd.csv', index_col=0, parse_dates=True, skipinitialspace=True)"
   ]
  },
  {
   "cell_type": "code",
   "execution_count": null,
   "metadata": {},
   "outputs": [],
   "source": [
    "# Examine firt 5 rows\n",
    "eurusd.head()"
   ]
  },
  {
   "cell_type": "code",
   "execution_count": null,
   "metadata": {},
   "outputs": [],
   "source": [
    "# Examine last five rows\n",
    "eurusd.tail()"
   ]
  },
  {
   "cell_type": "code",
   "execution_count": null,
   "metadata": {},
   "outputs": [],
   "source": [
    "# Examine index\n",
    "eurusd.index"
   ]
  },
  {
   "cell_type": "code",
   "execution_count": null,
   "metadata": {},
   "outputs": [],
   "source": [
    "# Examine data types\n",
    "eurusd.dtypes"
   ]
  },
  {
   "cell_type": "code",
   "execution_count": null,
   "metadata": {},
   "outputs": [],
   "source": [
    "# Select column 'Open' for analysis\n",
    "eurusdopen = eurusd.Open"
   ]
  },
  {
   "cell_type": "code",
   "execution_count": null,
   "metadata": {},
   "outputs": [],
   "source": [
    "# Get summary statistics\n",
    "eurusdopen.describe() "
   ]
  },
  {
   "cell_type": "code",
   "execution_count": null,
   "metadata": {},
   "outputs": [],
   "source": [
    "# Check for missing data\n",
    "print(eurusd.isnull().sum())"
   ]
  },
  {
   "cell_type": "markdown",
   "metadata": {},
   "source": [
    "There are no missing values in the data set"
   ]
  },
  {
   "cell_type": "code",
   "execution_count": null,
   "metadata": {},
   "outputs": [],
   "source": [
    "# Plot the exchange rate for 'open column'\n",
    "\n",
    "eurusd['Open'].plot(ylim=[0,1.75], linewidth=2, figsize = (12,5)).autoscale(axis='x', tight=True)\n",
    "plt.title('Exchange Rate Chart', size=20)\n",
    "plt.xlabel('Years', size=17)\n",
    "plt.ylabel('Exchange Rate', size=17)\n",
    "plt.autoscale(enable=True, axis='x', tight=True)\n",
    "plt.tick_params(labelsize=14)"
   ]
  },
  {
   "cell_type": "code",
   "execution_count": null,
   "metadata": {},
   "outputs": [],
   "source": [
    "# Carry out Decomposition\n",
    "\n",
    "seasonal = seasonal_decompose(eurusd.Open, model='additive', freq=52)\n",
    "seasonal.plot()\n",
    "mpl.rcParams['figure.figsize'] = 12,6"
   ]
  },
  {
   "cell_type": "markdown",
   "metadata": {},
   "source": [
    "STATIONARITY"
   ]
  },
  {
   "cell_type": "code",
   "execution_count": null,
   "metadata": {},
   "outputs": [],
   "source": [
    "# Examine the trend of the mean and standard deviation to examine impact on exchange rate trend\n",
    "\n",
    "eurusd['50 daily-EMA(Open)'] = eurusd['Open'].rolling(window=50).mean()\n",
    "eurusd['200 daily-EMA(Open)'] = eurusd['Open'].rolling(window=200).mean()\n",
    "eurusd['50 daily-std(Open)'] = eurusd['Open'].rolling(window=50).std()\n",
    "eurusd['200 daily-std(Open)'] = eurusd['Open'].rolling(window=200).std()\n",
    "eurusd[['Open', '50 daily-EMA(Open)','200 daily-EMA(Open)', '50 daily-std(Open)', '200 daily-std(Open)']].plot(linewidth=2)\n",
    "plt.ylim(0, 2)\n",
    "plt.xlabel('Years', size=17)\n",
    "plt.ylabel('Exchange Rate', size=17)\n",
    "plt.autoscale(enable=True, axis='x', tight=True)#plt.axis('tight'\n",
    "plt.tick_params(labelsize=14)\n",
    "mpl.rcParams['figure.figsize'] = 12,6"
   ]
  },
  {
   "cell_type": "markdown",
   "metadata": {},
   "source": [
    "From the chart above, it is clear that the Standard deviation is stationary, while the mean is not. The mean actually varies with the exchange rate trend"
   ]
  },
  {
   "cell_type": "code",
   "execution_count": null,
   "metadata": {},
   "outputs": [],
   "source": [
    "# Define the p, d and q parameters to take any value between 0 and 3\n",
    "#p = d = q = range(0, 3)\n",
    "\n",
    "# Generate all different combinations of p, q and q triplets\n",
    "#pdq = list(itertools.product(p, d, q))\n",
    "\n",
    "# Generate all different combinations of seasonal p, q and q triplets\n",
    "#seasonal_pdq = [(x[0], x[1], x[2], 52) for x in list(itertools.product(p, d, q))]\n",
    "\n",
    "#print('Examples of parameter combinations for Seasonal ARIMA...')\n",
    "#print('SARIMAX: {} x {}'.format(pdq[1], seasonal_pdq[1]))\n",
    "#print('SARIMAX: {} x {}'.format(pdq[1], seasonal_pdq[2]))\n",
    "#print('SARIMAX: {} x {}'.format(pdq[2], seasonal_pdq[3]))\n",
    "#print('SARIMAX: {} x {}'.format(pdq[2], seasonal_pdq[4]))"
   ]
  },
  {
   "cell_type": "code",
   "execution_count": null,
   "metadata": {},
   "outputs": [],
   "source": [
    "#warnings.filterwarnings(\"ignore\") # specify to ignore warning messages\n",
    "\n",
    "#for param in pdq:\n",
    "    #for param_seasonal in seasonal_pdq:\n",
    "      #  try:\n",
    "     #       mod = sm.tsa.statespace.SARIMAX(y,\n",
    "#                                            order=param,\n",
    " #                                           seasonal_order=param_seasonal,\n",
    "  #                                          enforce_stationarity=False,\n",
    "   #                                         enforce_invertibility=False)\n",
    "\n",
    "    #        results = mod.fit()\n",
    "\n",
    " #           print('ARIMA{}x{}52 - AIC:{}'.format(param, param_seasonal, results.aic))\n",
    "  #     except:\n",
    "   #        continue"
   ]
  },
  {
   "cell_type": "code",
   "execution_count": null,
   "metadata": {},
   "outputs": [],
   "source": [
    "#mod = sm.tsa.statespace.SARIMAX(eurusd.Open,\n",
    "#                                order=(1, 0, 0),\n",
    " #                               seasonal_order=(2, 1, 1, 52),\n",
    "  #                              enforce_stationarity=False,\n",
    "   #                             enforce_invertibility=False)\n",
    "\n",
    "#results = mod.fit()\n",
    "\n",
    "#print(results.summary().tables[1])"
   ]
  },
  {
   "cell_type": "code",
   "execution_count": null,
   "metadata": {},
   "outputs": [],
   "source": [
    "# Diagnostics of results\n",
    "#results.plot_diagnostics(figsize=(15, 12))\n",
    "#plt.show()"
   ]
  },
  {
   "cell_type": "markdown",
   "metadata": {},
   "source": [
    "Our primary concern is to ensure that the residuals of our model are uncorrelated and normally distributed with zero-mean. If the seasonal ARIMA model does not satisfy these properties, it is a good indication that it can be further improved.\n",
    "\n",
    "In this case, our model diagnostics suggests that the model residuals are normally distributed based on the following:\n",
    "\n",
    "In the top right plot, we see that the red KDE line follows closely with the N(0,1) line (where N(0,1)) is the standard notation for a normal distribution with mean 0 and standard deviation of 1). This is a good indication that the residuals are normally distributed.\n",
    "The qq-plot on the bottom left shows that the ordered distribution of residuals (blue dots) follows the linear trend of the samples taken from a standard normal distribution with N(0, 1). Again, this is a strong indication that the residuals are normally distributed.\n",
    "The residuals over time (top left plot) don’t display any obvious seasonality and appear to be white noise. This is confirmed by the autocorrelation (i.e. correlogram) plot on the bottom right, which shows that the time series residuals have low correlation with lagged versions of itself.\n",
    "\n",
    "Those observations lead us to conclude that our model produces a satisfactory fit that could help us understand our time series data and forecast future values."
   ]
  },
  {
   "cell_type": "markdown",
   "metadata": {},
   "source": [
    "Hypothesis Testing:\n",
    "    \n",
    "The Null hypothesis of this project states that the time series data of eurysd is non-stationary. Using the Dickey fuller test, I will determine below whether or not this is true."
   ]
  },
  {
   "cell_type": "code",
   "execution_count": null,
   "metadata": {},
   "outputs": [],
   "source": [
    "print('Augmented Dickey-Fuller Test on EURUSD Exchange Rate Data')\n",
    "dftest = adfuller(eurusd['Open'], autolag='AIC')\n",
    "dftest"
   ]
  },
  {
   "cell_type": "code",
   "execution_count": null,
   "metadata": {},
   "outputs": [],
   "source": [
    "print('Augmented Dickey-Fuller Test on EURUSD Exchange Rate Data')\n",
    "dfout = pd.Series(dftest[0:4], index = ['ADF Test Statistic', 'p-value', '# lags used', '# observations'])\n",
    "\n",
    "for key, val in dftest[4].items():\n",
    "    dfout[f'critical value({key})']=val\n",
    "    print(dfout)"
   ]
  },
  {
   "cell_type": "markdown",
   "metadata": {},
   "source": [
    "#### MACHINE LEARNING: SARIMAX MODEL"
   ]
  },
  {
   "cell_type": "code",
   "execution_count": null,
   "metadata": {},
   "outputs": [],
   "source": [
    "# Use the auto arima function to generate the optimal parameter values for the Arima Model\n",
    "stepwise_fit = auto_arima(eurusd['Open'], start_P = 1, start_q = 1, max_p = 2, max_q = 2, m=52, start_p = 0, seasonal =True\n",
    "                          , d=None, D=1, trace=True, \n",
    "                           error_action='ignore', # We don't want to know if an order does not work\n",
    "                           surpress_warnings=True, #We don't want convergence warnings\n",
    "                           stepwise=True) #Set to stepwise\n",
    "stepwise_fit.summary()"
   ]
  },
  {
   "cell_type": "markdown",
   "metadata": {},
   "source": [
    "# AS can be observed above, the Auto Arima function generated a Model of SARIMAX(1, 0, 0)x(2, 1, 1, 52)"
   ]
  },
  {
   "cell_type": "markdown",
   "metadata": {},
   "source": [
    "The P-value above is greater than 5% using the dickey fuller test, hence we accept the null-hypothesis to be true, that our time series data for eurusd is non-stationary"
   ]
  },
  {
   "cell_type": "code",
   "execution_count": null,
   "metadata": {},
   "outputs": [],
   "source": [
    "eurusd.shape"
   ]
  },
  {
   "cell_type": "code",
   "execution_count": null,
   "metadata": {},
   "outputs": [],
   "source": [
    "# Split Dataset into training and test using a 80% split in favor of train\n",
    "size = int(len(eurusd.Open) * 0.80)\n",
    "train, test = eurusd.Open[0:size], eurusd.Open[size:len(eurusd.Open)]"
   ]
  },
  {
   "cell_type": "code",
   "execution_count": null,
   "metadata": {},
   "outputs": [],
   "source": [
    "# Import SARIMAX \n",
    "\n",
    "from statsmodels.tsa.statespace.sarimax import SARIMAX"
   ]
  },
  {
   "cell_type": "code",
   "execution_count": null,
   "metadata": {},
   "outputs": [],
   "source": [
    "# Fit SARIMAX model\n",
    "model  = SARIMAX(train, order=(1,0,0), seasonal_order=(2,1,1,52), enforce_invertibility=False)\n",
    "result = model.fit()\n",
    "result.summary()"
   ]
  },
  {
   "cell_type": "code",
   "execution_count": null,
   "metadata": {},
   "outputs": [],
   "source": [
    "# Make predictions\n",
    "start = len(train)\n",
    "end = len(train) + len(test)-1\n",
    "predictions = results.predict(start = start, end = end, dynamic = False, typ='levels').rename('SARIMAX(1,0,0) Predictions')"
   ]
  },
  {
   "cell_type": "code",
   "execution_count": null,
   "metadata": {},
   "outputs": [],
   "source": [
    "# Define expected\n",
    "expected=test"
   ]
  },
  {
   "cell_type": "code",
   "execution_count": null,
   "metadata": {},
   "outputs": [],
   "source": [
    "# Forcast error\n",
    "for i in range(len(predictions)):\n",
    "    Forecast_error = predictions[i] - test[i]"
   ]
  },
  {
   "cell_type": "code",
   "execution_count": null,
   "metadata": {},
   "outputs": [],
   "source": [
    "# Plot predictions against known values\n",
    "ax = test.plot(legend=True, figsize=(20,10), linewidth=1)\n",
    "predictions.plot(legend=True, linewidth=1)\n",
    "#ax.autoscale(axis = 'x', tight=True)"
   ]
  },
  {
   "cell_type": "code",
   "execution_count": null,
   "metadata": {},
   "outputs": [],
   "source": [
    "# Compare predictions to expected values\n",
    "\n",
    "for i in range(len(predictions)):\n",
    "    print(f\"predicted={predictions[i]}, \\t expected={test[i]}\")"
   ]
  },
  {
   "cell_type": "code",
   "execution_count": null,
   "metadata": {},
   "outputs": [],
   "source": [
    "from sklearn.metrics import mean_squared_error\n",
    "\n",
    "error = mean_squared_error(test, predictions)\n",
    "print(f'SARIMAX(1,0,0) MSE Error {error}')"
   ]
  },
  {
   "cell_type": "code",
   "execution_count": null,
   "metadata": {},
   "outputs": [],
   "source": [
    "from statsmodels.tools.eval_measures import rmse\n",
    "\n",
    "error = rmse(test, predictions)\n",
    "print(f'SARIMAX(1,0,0) RMSE Error: {error:11.10}')"
   ]
  },
  {
   "cell_type": "markdown",
   "metadata": {},
   "source": [
    "#### Retrain Sarimax model"
   ]
  },
  {
   "cell_type": "code",
   "execution_count": null,
   "metadata": {},
   "outputs": [],
   "source": [
    "model = SARIMAX(eurusd['Open'], order=(1,0,0), seasonal_order=(2,1,1,52), enforce_invinsibility=False)\n",
    "result2 = model.fit()\n",
    "fcast = result2.predict(len(eurusd), len(eurusd)+365*10, dynamic=True, typ='levels').rename('SARIMAX(1,0,0)Forecast')"
   ]
  },
  {
   "cell_type": "code",
   "execution_count": null,
   "metadata": {},
   "outputs": [],
   "source": [
    "fcast_start = max(eurusd.index.values) + pd.Timedelta(days = 1)\n",
    "fcast_end = max(eurusd.index.values) + pd.Timedelta(days = 10 * 365 + 1)\n",
    "fcast = pd.DataFrame(fcast)\n",
    "fcast['date'] = pd.date_range(fcast_start, fcast_end)"
   ]
  },
  {
   "cell_type": "code",
   "execution_count": null,
   "metadata": {},
   "outputs": [],
   "source": [
    "fig, ax = plt.subplots(figsize = (20,10))\n",
    "ax.plot(eurusd['Open'], label = 'Open')\n",
    "ax.plot(fcast.date, fcast.iloc[:, 0], label = 'forecast')\n",
    "ax.legend()\n",
    "ax.autoscale(axis = 'x', tight=True)\n",
    "plt.show()  "
   ]
  }
 ],
 "metadata": {
  "kernelspec": {
   "display_name": "Python 3",
   "language": "python",
   "name": "python3"
  },
  "language_info": {
   "codemirror_mode": {
    "name": "ipython",
    "version": 3
   },
   "file_extension": ".py",
   "mimetype": "text/x-python",
   "name": "python",
   "nbconvert_exporter": "python",
   "pygments_lexer": "ipython3",
   "version": "3.7.3"
  }
 },
 "nbformat": 4,
 "nbformat_minor": 2
}
